{
 "cells": [
  {
   "cell_type": "markdown",
   "id": "07a7b6cb",
   "metadata": {},
   "source": [
    "<div style=\"border-radius: 15px; border: 3px solid black; padding: 15px;\">\n",
    "    \n",
    "<font size=+2><b> Проект по SQL. </b></font>\n",
    "    \n",
    "Произведён анализ базы данных крупного сервиса для чтения книг по подписке. В ней — информация о книгах, издательствах, авторах, а также пользовательские обзоры книг. Эти данные помогут сформулировать ценностное предложение для нового продукта.\n",
    "\n",
    "Цели исследования: подключиться к внешней базе данных, написать SQL-запросы, вывести запрашиваемые данные в тетрадь проекта. На основании полученных данных сформулировать выводы об интересующих аспектах книжного рынка в данный момент.    \n",
    "    \n",
    "</div> "
   ]
  },
  {
   "cell_type": "markdown",
   "id": "758ec013",
   "metadata": {},
   "source": [
    "<div style=\"border-radius: 15px; border: 3px solid black; padding: 15px;\">\n",
    "    \n",
    "<font size=+2><b> ЗАГРУЗКА ДАННЫХ. </b></font>\n",
    "\n",
    "<font size=+1><b> 1. Таблица books. </b></font>\n",
    "    \n",
    "Содержит данные о книгах:\n",
    "- 'book_id' — идентификатор книги;\n",
    "- 'author_id' — идентификатор автора;\n",
    "- 'title' — название книги;\n",
    "- 'num_pages' — количество страниц;\n",
    "- 'publication_date' — дата публикации книги;\n",
    "- 'publisher_id' — идентификатор издателя.\n",
    "    \n",
    "</div>"
   ]
  },
  {
   "cell_type": "code",
   "execution_count": 1,
   "id": "086e1121",
   "metadata": {},
   "outputs": [],
   "source": [
    "import pandas as pd\n",
    "from sqlalchemy import create_engine"
   ]
  },
  {
   "cell_type": "code",
   "execution_count": 2,
   "id": "9a0de0c0",
   "metadata": {},
   "outputs": [],
   "source": [
    "db_config = {'user': 'praktikum_student', # имя пользователя\n",
    "             'pwd': 'Sdf4$2;d-d30pp', # пароль\n",
    "             'host': 'rc1b-wcoijxj3yxfsf3fs.mdb.yandexcloud.net',\n",
    "             'port': 6432, # порт подключения\n",
    "             'db': 'data-analyst-final-project-db'} # название базы данных\n",
    "\n",
    "connection_string = 'postgresql://{}:{}@{}:{}/{}'.format(db_config['user'],\n",
    "                                                         db_config['pwd'],\n",
    "                                                         db_config['host'],\n",
    "                                                         db_config['port'],\n",
    "                                                         db_config['db'])\n",
    "\n",
    "engine = create_engine(connection_string, connect_args={'sslmode':'require'}) "
   ]
  },
  {
   "cell_type": "code",
   "execution_count": 3,
   "id": "af84d05c",
   "metadata": {},
   "outputs": [],
   "source": [
    "query_books = '''SELECT *\n",
    "                 FROM books\n",
    "              '''"
   ]
  },
  {
   "cell_type": "code",
   "execution_count": 4,
   "id": "293fe08b",
   "metadata": {},
   "outputs": [
    {
     "data": {
      "text/html": [
       "<div>\n",
       "<style scoped>\n",
       "    .dataframe tbody tr th:only-of-type {\n",
       "        vertical-align: middle;\n",
       "    }\n",
       "\n",
       "    .dataframe tbody tr th {\n",
       "        vertical-align: top;\n",
       "    }\n",
       "\n",
       "    .dataframe thead th {\n",
       "        text-align: right;\n",
       "    }\n",
       "</style>\n",
       "<table border=\"1\" class=\"dataframe\">\n",
       "  <thead>\n",
       "    <tr style=\"text-align: right;\">\n",
       "      <th></th>\n",
       "      <th>book_id</th>\n",
       "      <th>author_id</th>\n",
       "      <th>title</th>\n",
       "      <th>num_pages</th>\n",
       "      <th>publication_date</th>\n",
       "      <th>publisher_id</th>\n",
       "    </tr>\n",
       "  </thead>\n",
       "  <tbody>\n",
       "    <tr>\n",
       "      <th>0</th>\n",
       "      <td>1</td>\n",
       "      <td>546</td>\n",
       "      <td>'Salem's Lot</td>\n",
       "      <td>594</td>\n",
       "      <td>2005-11-01</td>\n",
       "      <td>93</td>\n",
       "    </tr>\n",
       "    <tr>\n",
       "      <th>1</th>\n",
       "      <td>2</td>\n",
       "      <td>465</td>\n",
       "      <td>1 000 Places to See Before You Die</td>\n",
       "      <td>992</td>\n",
       "      <td>2003-05-22</td>\n",
       "      <td>336</td>\n",
       "    </tr>\n",
       "    <tr>\n",
       "      <th>2</th>\n",
       "      <td>3</td>\n",
       "      <td>407</td>\n",
       "      <td>13 Little Blue Envelopes (Little Blue Envelope...</td>\n",
       "      <td>322</td>\n",
       "      <td>2010-12-21</td>\n",
       "      <td>135</td>\n",
       "    </tr>\n",
       "    <tr>\n",
       "      <th>3</th>\n",
       "      <td>4</td>\n",
       "      <td>82</td>\n",
       "      <td>1491: New Revelations of the Americas Before C...</td>\n",
       "      <td>541</td>\n",
       "      <td>2006-10-10</td>\n",
       "      <td>309</td>\n",
       "    </tr>\n",
       "    <tr>\n",
       "      <th>4</th>\n",
       "      <td>5</td>\n",
       "      <td>125</td>\n",
       "      <td>1776</td>\n",
       "      <td>386</td>\n",
       "      <td>2006-07-04</td>\n",
       "      <td>268</td>\n",
       "    </tr>\n",
       "  </tbody>\n",
       "</table>\n",
       "</div>"
      ],
      "text/plain": [
       "   book_id  author_id                                              title  \\\n",
       "0        1        546                                       'Salem's Lot   \n",
       "1        2        465                 1 000 Places to See Before You Die   \n",
       "2        3        407  13 Little Blue Envelopes (Little Blue Envelope...   \n",
       "3        4         82  1491: New Revelations of the Americas Before C...   \n",
       "4        5        125                                               1776   \n",
       "\n",
       "   num_pages publication_date  publisher_id  \n",
       "0        594       2005-11-01            93  \n",
       "1        992       2003-05-22           336  \n",
       "2        322       2010-12-21           135  \n",
       "3        541       2006-10-10           309  \n",
       "4        386       2006-07-04           268  "
      ]
     },
     "execution_count": 4,
     "metadata": {},
     "output_type": "execute_result"
    }
   ],
   "source": [
    "books = pd.io.sql.read_sql(query_books, con = engine)\n",
    "\n",
    "books.head()"
   ]
  },
  {
   "cell_type": "markdown",
   "id": "6ccd83df",
   "metadata": {},
   "source": [
    "<div style=\"border-radius: 15px; border: 3px solid black; padding: 15px;\">\n",
    "    \n",
    "<font size=+1><b> 2. Таблица authors. </b></font>\n",
    "    \n",
    "Содержит данные об авторах:\n",
    "- 'author_id' — идентификатор автора;\n",
    "- 'author' — имя автора.\n",
    "    \n",
    "</div>"
   ]
  },
  {
   "cell_type": "code",
   "execution_count": 5,
   "id": "d781d437",
   "metadata": {},
   "outputs": [],
   "source": [
    "query_authors = '''SELECT *\n",
    "                   FROM authors\n",
    "                   LIMIT 5\n",
    "                '''"
   ]
  },
  {
   "cell_type": "code",
   "execution_count": 6,
   "id": "35579f24",
   "metadata": {},
   "outputs": [
    {
     "data": {
      "text/html": [
       "<div>\n",
       "<style scoped>\n",
       "    .dataframe tbody tr th:only-of-type {\n",
       "        vertical-align: middle;\n",
       "    }\n",
       "\n",
       "    .dataframe tbody tr th {\n",
       "        vertical-align: top;\n",
       "    }\n",
       "\n",
       "    .dataframe thead th {\n",
       "        text-align: right;\n",
       "    }\n",
       "</style>\n",
       "<table border=\"1\" class=\"dataframe\">\n",
       "  <thead>\n",
       "    <tr style=\"text-align: right;\">\n",
       "      <th></th>\n",
       "      <th>author_id</th>\n",
       "      <th>author</th>\n",
       "    </tr>\n",
       "  </thead>\n",
       "  <tbody>\n",
       "    <tr>\n",
       "      <th>0</th>\n",
       "      <td>1</td>\n",
       "      <td>A.S. Byatt</td>\n",
       "    </tr>\n",
       "    <tr>\n",
       "      <th>1</th>\n",
       "      <td>2</td>\n",
       "      <td>Aesop/Laura Harris/Laura Gibbs</td>\n",
       "    </tr>\n",
       "    <tr>\n",
       "      <th>2</th>\n",
       "      <td>3</td>\n",
       "      <td>Agatha Christie</td>\n",
       "    </tr>\n",
       "    <tr>\n",
       "      <th>3</th>\n",
       "      <td>4</td>\n",
       "      <td>Alan Brennert</td>\n",
       "    </tr>\n",
       "    <tr>\n",
       "      <th>4</th>\n",
       "      <td>5</td>\n",
       "      <td>Alan Moore/David   Lloyd</td>\n",
       "    </tr>\n",
       "  </tbody>\n",
       "</table>\n",
       "</div>"
      ],
      "text/plain": [
       "   author_id                          author\n",
       "0          1                      A.S. Byatt\n",
       "1          2  Aesop/Laura Harris/Laura Gibbs\n",
       "2          3                 Agatha Christie\n",
       "3          4                   Alan Brennert\n",
       "4          5        Alan Moore/David   Lloyd"
      ]
     },
     "execution_count": 6,
     "metadata": {},
     "output_type": "execute_result"
    }
   ],
   "source": [
    "authors = pd.io.sql.read_sql(query_authors, con = engine)\n",
    "\n",
    "authors"
   ]
  },
  {
   "cell_type": "markdown",
   "id": "7c2ea4b6",
   "metadata": {},
   "source": [
    "<div style=\"border-radius: 15px; border: 3px solid black; padding: 15px;\">\n",
    "    \n",
    "<font size=+1><b> 3. Таблица publishers. </b></font>\n",
    "    \n",
    "Содержит данные об издательствах:\n",
    "- 'publisher_id' — идентификатор издательства;\n",
    "- 'publisher' — название издательства.\n",
    "    \n",
    "</div>"
   ]
  },
  {
   "cell_type": "code",
   "execution_count": 7,
   "id": "8e8b85a4",
   "metadata": {},
   "outputs": [],
   "source": [
    "query_publishers = '''SELECT *\n",
    "                      FROM publishers\n",
    "                      LIMIT 5\n",
    "                   '''"
   ]
  },
  {
   "cell_type": "code",
   "execution_count": 8,
   "id": "9728d41e",
   "metadata": {},
   "outputs": [
    {
     "data": {
      "text/html": [
       "<div>\n",
       "<style scoped>\n",
       "    .dataframe tbody tr th:only-of-type {\n",
       "        vertical-align: middle;\n",
       "    }\n",
       "\n",
       "    .dataframe tbody tr th {\n",
       "        vertical-align: top;\n",
       "    }\n",
       "\n",
       "    .dataframe thead th {\n",
       "        text-align: right;\n",
       "    }\n",
       "</style>\n",
       "<table border=\"1\" class=\"dataframe\">\n",
       "  <thead>\n",
       "    <tr style=\"text-align: right;\">\n",
       "      <th></th>\n",
       "      <th>publisher_id</th>\n",
       "      <th>publisher</th>\n",
       "    </tr>\n",
       "  </thead>\n",
       "  <tbody>\n",
       "    <tr>\n",
       "      <th>0</th>\n",
       "      <td>1</td>\n",
       "      <td>Ace</td>\n",
       "    </tr>\n",
       "    <tr>\n",
       "      <th>1</th>\n",
       "      <td>2</td>\n",
       "      <td>Ace Book</td>\n",
       "    </tr>\n",
       "    <tr>\n",
       "      <th>2</th>\n",
       "      <td>3</td>\n",
       "      <td>Ace Books</td>\n",
       "    </tr>\n",
       "    <tr>\n",
       "      <th>3</th>\n",
       "      <td>4</td>\n",
       "      <td>Ace Hardcover</td>\n",
       "    </tr>\n",
       "    <tr>\n",
       "      <th>4</th>\n",
       "      <td>5</td>\n",
       "      <td>Addison Wesley Publishing Company</td>\n",
       "    </tr>\n",
       "  </tbody>\n",
       "</table>\n",
       "</div>"
      ],
      "text/plain": [
       "   publisher_id                          publisher\n",
       "0             1                                Ace\n",
       "1             2                           Ace Book\n",
       "2             3                          Ace Books\n",
       "3             4                      Ace Hardcover\n",
       "4             5  Addison Wesley Publishing Company"
      ]
     },
     "execution_count": 8,
     "metadata": {},
     "output_type": "execute_result"
    }
   ],
   "source": [
    "publishers = pd.io.sql.read_sql(query_publishers, con = engine)\n",
    "\n",
    "publishers"
   ]
  },
  {
   "cell_type": "markdown",
   "id": "aa070bcc",
   "metadata": {},
   "source": [
    "<div style=\"border-radius: 15px; border: 3px solid black; padding: 15px;\">\n",
    "    \n",
    "<font size=+1><b> 4. Таблица ratings. </b></font>\n",
    "    \n",
    "Содержит данные о пользовательских оценках книг:\n",
    "- 'rating_id' — идентификатор оценки;\n",
    "- 'book_id' — идентификатор книги;\n",
    "- 'username' — имя пользователя, оставившего оценку;\n",
    "- 'rating' — оценка книги.\n",
    "    \n",
    "</div>"
   ]
  },
  {
   "cell_type": "code",
   "execution_count": 9,
   "id": "4a9ab804",
   "metadata": {},
   "outputs": [],
   "source": [
    "query_ratings = '''SELECT *\n",
    "                   FROM ratings\n",
    "                '''"
   ]
  },
  {
   "cell_type": "code",
   "execution_count": 10,
   "id": "2f47d0a3",
   "metadata": {},
   "outputs": [
    {
     "data": {
      "text/html": [
       "<div>\n",
       "<style scoped>\n",
       "    .dataframe tbody tr th:only-of-type {\n",
       "        vertical-align: middle;\n",
       "    }\n",
       "\n",
       "    .dataframe tbody tr th {\n",
       "        vertical-align: top;\n",
       "    }\n",
       "\n",
       "    .dataframe thead th {\n",
       "        text-align: right;\n",
       "    }\n",
       "</style>\n",
       "<table border=\"1\" class=\"dataframe\">\n",
       "  <thead>\n",
       "    <tr style=\"text-align: right;\">\n",
       "      <th></th>\n",
       "      <th>rating_id</th>\n",
       "      <th>book_id</th>\n",
       "      <th>username</th>\n",
       "      <th>rating</th>\n",
       "    </tr>\n",
       "  </thead>\n",
       "  <tbody>\n",
       "    <tr>\n",
       "      <th>0</th>\n",
       "      <td>1</td>\n",
       "      <td>1</td>\n",
       "      <td>ryanfranco</td>\n",
       "      <td>4</td>\n",
       "    </tr>\n",
       "    <tr>\n",
       "      <th>1</th>\n",
       "      <td>2</td>\n",
       "      <td>1</td>\n",
       "      <td>grantpatricia</td>\n",
       "      <td>2</td>\n",
       "    </tr>\n",
       "    <tr>\n",
       "      <th>2</th>\n",
       "      <td>3</td>\n",
       "      <td>1</td>\n",
       "      <td>brandtandrea</td>\n",
       "      <td>5</td>\n",
       "    </tr>\n",
       "    <tr>\n",
       "      <th>3</th>\n",
       "      <td>4</td>\n",
       "      <td>2</td>\n",
       "      <td>lorichen</td>\n",
       "      <td>3</td>\n",
       "    </tr>\n",
       "    <tr>\n",
       "      <th>4</th>\n",
       "      <td>5</td>\n",
       "      <td>2</td>\n",
       "      <td>mariokeller</td>\n",
       "      <td>2</td>\n",
       "    </tr>\n",
       "  </tbody>\n",
       "</table>\n",
       "</div>"
      ],
      "text/plain": [
       "   rating_id  book_id       username  rating\n",
       "0          1        1     ryanfranco       4\n",
       "1          2        1  grantpatricia       2\n",
       "2          3        1   brandtandrea       5\n",
       "3          4        2       lorichen       3\n",
       "4          5        2    mariokeller       2"
      ]
     },
     "execution_count": 10,
     "metadata": {},
     "output_type": "execute_result"
    }
   ],
   "source": [
    "ratings = pd.io.sql.read_sql(query_ratings, con = engine)\n",
    "\n",
    "ratings.head()"
   ]
  },
  {
   "cell_type": "markdown",
   "id": "a8eff915",
   "metadata": {},
   "source": [
    "<div style=\"border-radius: 15px; border: 3px solid black; padding: 15px;\">\n",
    "    \n",
    "<font size=+1><b> 5. Таблица reviews. </b></font>\n",
    "    \n",
    "Содержит данные о пользовательских обзорах на книги:\n",
    "- 'review_id' — идентификатор обзора;\n",
    "- 'book_id' — идентификатор книги;\n",
    "- 'username' — имя пользователя, написавшего обзор;\n",
    "- 'text' — текст обзора.\n",
    "    \n",
    "</div>"
   ]
  },
  {
   "cell_type": "code",
   "execution_count": 11,
   "id": "83df1651",
   "metadata": {},
   "outputs": [],
   "source": [
    "query_reviews = '''SELECT *\n",
    "                   FROM reviews\n",
    "                '''"
   ]
  },
  {
   "cell_type": "code",
   "execution_count": 12,
   "id": "7dc89ed2",
   "metadata": {
    "scrolled": true
   },
   "outputs": [
    {
     "data": {
      "text/html": [
       "<div>\n",
       "<style scoped>\n",
       "    .dataframe tbody tr th:only-of-type {\n",
       "        vertical-align: middle;\n",
       "    }\n",
       "\n",
       "    .dataframe tbody tr th {\n",
       "        vertical-align: top;\n",
       "    }\n",
       "\n",
       "    .dataframe thead th {\n",
       "        text-align: right;\n",
       "    }\n",
       "</style>\n",
       "<table border=\"1\" class=\"dataframe\">\n",
       "  <thead>\n",
       "    <tr style=\"text-align: right;\">\n",
       "      <th></th>\n",
       "      <th>review_id</th>\n",
       "      <th>book_id</th>\n",
       "      <th>username</th>\n",
       "      <th>text</th>\n",
       "    </tr>\n",
       "  </thead>\n",
       "  <tbody>\n",
       "    <tr>\n",
       "      <th>0</th>\n",
       "      <td>1</td>\n",
       "      <td>1</td>\n",
       "      <td>brandtandrea</td>\n",
       "      <td>Mention society tell send professor analysis. ...</td>\n",
       "    </tr>\n",
       "    <tr>\n",
       "      <th>1</th>\n",
       "      <td>2</td>\n",
       "      <td>1</td>\n",
       "      <td>ryanfranco</td>\n",
       "      <td>Foot glass pretty audience hit themselves. Amo...</td>\n",
       "    </tr>\n",
       "    <tr>\n",
       "      <th>2</th>\n",
       "      <td>3</td>\n",
       "      <td>2</td>\n",
       "      <td>lorichen</td>\n",
       "      <td>Listen treat keep worry. Miss husband tax but ...</td>\n",
       "    </tr>\n",
       "    <tr>\n",
       "      <th>3</th>\n",
       "      <td>4</td>\n",
       "      <td>3</td>\n",
       "      <td>johnsonamanda</td>\n",
       "      <td>Finally month interesting blue could nature cu...</td>\n",
       "    </tr>\n",
       "    <tr>\n",
       "      <th>4</th>\n",
       "      <td>5</td>\n",
       "      <td>3</td>\n",
       "      <td>scotttamara</td>\n",
       "      <td>Nation purpose heavy give wait song will. List...</td>\n",
       "    </tr>\n",
       "  </tbody>\n",
       "</table>\n",
       "</div>"
      ],
      "text/plain": [
       "   review_id  book_id       username  \\\n",
       "0          1        1   brandtandrea   \n",
       "1          2        1     ryanfranco   \n",
       "2          3        2       lorichen   \n",
       "3          4        3  johnsonamanda   \n",
       "4          5        3    scotttamara   \n",
       "\n",
       "                                                text  \n",
       "0  Mention society tell send professor analysis. ...  \n",
       "1  Foot glass pretty audience hit themselves. Amo...  \n",
       "2  Listen treat keep worry. Miss husband tax but ...  \n",
       "3  Finally month interesting blue could nature cu...  \n",
       "4  Nation purpose heavy give wait song will. List...  "
      ]
     },
     "execution_count": 12,
     "metadata": {},
     "output_type": "execute_result"
    }
   ],
   "source": [
    "reviews = pd.io.sql.read_sql(query_reviews, con = engine)\n",
    "\n",
    "reviews.head()"
   ]
  },
  {
   "cell_type": "markdown",
   "id": "c5aca114",
   "metadata": {},
   "source": [
    "<div style=\"border-radius: 15px; border: 3px solid black; padding: 15px;\">\n",
    "    \n",
    "<font size=+2><b> ЗАДАЧА 1. </b></font>\n",
    "\n",
    "Посчитайте, сколько книг вышло после 1 января 2000 года.\n",
    "    \n",
    "По результатам данного запроса можно сказать, что в распоряжении купленного сервиса достаточно большое количество - 819 из 1000 - современных книг.\n",
    "    \n",
    "</div>"
   ]
  },
  {
   "cell_type": "code",
   "execution_count": 13,
   "id": "5e538b8e",
   "metadata": {},
   "outputs": [],
   "source": [
    "query_1 = '''SELECT COUNT(book_id)\n",
    "             FROM books\n",
    "             WHERE publication_date > '2000-01-01';\n",
    "          '''"
   ]
  },
  {
   "cell_type": "code",
   "execution_count": 14,
   "id": "d65ac571",
   "metadata": {
    "scrolled": true
   },
   "outputs": [
    {
     "data": {
      "text/html": [
       "<div>\n",
       "<style scoped>\n",
       "    .dataframe tbody tr th:only-of-type {\n",
       "        vertical-align: middle;\n",
       "    }\n",
       "\n",
       "    .dataframe tbody tr th {\n",
       "        vertical-align: top;\n",
       "    }\n",
       "\n",
       "    .dataframe thead th {\n",
       "        text-align: right;\n",
       "    }\n",
       "</style>\n",
       "<table border=\"1\" class=\"dataframe\">\n",
       "  <thead>\n",
       "    <tr style=\"text-align: right;\">\n",
       "      <th></th>\n",
       "      <th>count</th>\n",
       "    </tr>\n",
       "  </thead>\n",
       "  <tbody>\n",
       "    <tr>\n",
       "      <th>0</th>\n",
       "      <td>819</td>\n",
       "    </tr>\n",
       "  </tbody>\n",
       "</table>\n",
       "</div>"
      ],
      "text/plain": [
       "   count\n",
       "0    819"
      ]
     },
     "execution_count": 14,
     "metadata": {},
     "output_type": "execute_result"
    }
   ],
   "source": [
    "total_books = pd.io.sql.read_sql(query_1, con = engine)\n",
    "\n",
    "total_books"
   ]
  },
  {
   "cell_type": "code",
   "execution_count": 15,
   "id": "4987765f",
   "metadata": {},
   "outputs": [
    {
     "data": {
      "text/plain": [
       "(1000, 6)"
      ]
     },
     "execution_count": 15,
     "metadata": {},
     "output_type": "execute_result"
    }
   ],
   "source": [
    "books.shape"
   ]
  },
  {
   "cell_type": "markdown",
   "id": "960a3b10",
   "metadata": {},
   "source": [
    "<div style=\"border-radius: 15px; border: 3px solid black; padding: 15px;\">\n",
    "    \n",
    "<font size=+2><b> ЗАДАЧА 2. </b></font>\n",
    "\n",
    "Для каждой книги посчитайте количество обзоров и среднюю оценку.\n",
    "    \n",
    "По итогам данного запроса у нас есть информация о количестве обзоров на каждую книгу и её средней оценке. Теперь можно сортировать книги по популярности или рейтингу.\n",
    "    \n",
    "</div>"
   ]
  },
  {
   "cell_type": "code",
   "execution_count": 16,
   "id": "f6d629c5",
   "metadata": {},
   "outputs": [],
   "source": [
    "query_2 = '''SELECT b.book_id,\n",
    "                    b.title,\n",
    "                    COUNT(DISTINCT rev.review_id),\n",
    "                    ROUND(AVG(rat.rating), 2)\n",
    "             FROM books b\n",
    "             LEFT JOIN reviews rev ON b.book_id = rev.book_id\n",
    "             LEFT JOIN ratings rat ON b.book_id = rat.book_id\n",
    "             GROUP BY 1\n",
    "             ORDER BY 1;\n",
    "          '''"
   ]
  },
  {
   "cell_type": "code",
   "execution_count": 17,
   "id": "60bcdf41",
   "metadata": {
    "scrolled": false
   },
   "outputs": [
    {
     "data": {
      "text/html": [
       "<div>\n",
       "<style scoped>\n",
       "    .dataframe tbody tr th:only-of-type {\n",
       "        vertical-align: middle;\n",
       "    }\n",
       "\n",
       "    .dataframe tbody tr th {\n",
       "        vertical-align: top;\n",
       "    }\n",
       "\n",
       "    .dataframe thead th {\n",
       "        text-align: right;\n",
       "    }\n",
       "</style>\n",
       "<table border=\"1\" class=\"dataframe\">\n",
       "  <thead>\n",
       "    <tr style=\"text-align: right;\">\n",
       "      <th></th>\n",
       "      <th>book_id</th>\n",
       "      <th>title</th>\n",
       "      <th>count</th>\n",
       "      <th>round</th>\n",
       "    </tr>\n",
       "  </thead>\n",
       "  <tbody>\n",
       "    <tr>\n",
       "      <th>0</th>\n",
       "      <td>1</td>\n",
       "      <td>'Salem's Lot</td>\n",
       "      <td>2</td>\n",
       "      <td>3.67</td>\n",
       "    </tr>\n",
       "    <tr>\n",
       "      <th>1</th>\n",
       "      <td>2</td>\n",
       "      <td>1 000 Places to See Before You Die</td>\n",
       "      <td>1</td>\n",
       "      <td>2.50</td>\n",
       "    </tr>\n",
       "    <tr>\n",
       "      <th>2</th>\n",
       "      <td>3</td>\n",
       "      <td>13 Little Blue Envelopes (Little Blue Envelope...</td>\n",
       "      <td>3</td>\n",
       "      <td>4.67</td>\n",
       "    </tr>\n",
       "    <tr>\n",
       "      <th>3</th>\n",
       "      <td>4</td>\n",
       "      <td>1491: New Revelations of the Americas Before C...</td>\n",
       "      <td>2</td>\n",
       "      <td>4.50</td>\n",
       "    </tr>\n",
       "    <tr>\n",
       "      <th>4</th>\n",
       "      <td>5</td>\n",
       "      <td>1776</td>\n",
       "      <td>4</td>\n",
       "      <td>4.00</td>\n",
       "    </tr>\n",
       "    <tr>\n",
       "      <th>...</th>\n",
       "      <td>...</td>\n",
       "      <td>...</td>\n",
       "      <td>...</td>\n",
       "      <td>...</td>\n",
       "    </tr>\n",
       "    <tr>\n",
       "      <th>995</th>\n",
       "      <td>996</td>\n",
       "      <td>Wyrd Sisters (Discworld  #6; Witches #2)</td>\n",
       "      <td>3</td>\n",
       "      <td>3.67</td>\n",
       "    </tr>\n",
       "    <tr>\n",
       "      <th>996</th>\n",
       "      <td>997</td>\n",
       "      <td>Xenocide (Ender's Saga  #3)</td>\n",
       "      <td>3</td>\n",
       "      <td>3.40</td>\n",
       "    </tr>\n",
       "    <tr>\n",
       "      <th>997</th>\n",
       "      <td>998</td>\n",
       "      <td>Year of Wonders</td>\n",
       "      <td>4</td>\n",
       "      <td>3.20</td>\n",
       "    </tr>\n",
       "    <tr>\n",
       "      <th>998</th>\n",
       "      <td>999</td>\n",
       "      <td>You Suck (A Love Story  #2)</td>\n",
       "      <td>2</td>\n",
       "      <td>4.50</td>\n",
       "    </tr>\n",
       "    <tr>\n",
       "      <th>999</th>\n",
       "      <td>1000</td>\n",
       "      <td>Zen and the Art of Motorcycle Maintenance: An ...</td>\n",
       "      <td>4</td>\n",
       "      <td>3.83</td>\n",
       "    </tr>\n",
       "  </tbody>\n",
       "</table>\n",
       "<p>1000 rows × 4 columns</p>\n",
       "</div>"
      ],
      "text/plain": [
       "     book_id                                              title  count  round\n",
       "0          1                                       'Salem's Lot      2   3.67\n",
       "1          2                 1 000 Places to See Before You Die      1   2.50\n",
       "2          3  13 Little Blue Envelopes (Little Blue Envelope...      3   4.67\n",
       "3          4  1491: New Revelations of the Americas Before C...      2   4.50\n",
       "4          5                                               1776      4   4.00\n",
       "..       ...                                                ...    ...    ...\n",
       "995      996           Wyrd Sisters (Discworld  #6; Witches #2)      3   3.67\n",
       "996      997                        Xenocide (Ender's Saga  #3)      3   3.40\n",
       "997      998                                    Year of Wonders      4   3.20\n",
       "998      999                        You Suck (A Love Story  #2)      2   4.50\n",
       "999     1000  Zen and the Art of Motorcycle Maintenance: An ...      4   3.83\n",
       "\n",
       "[1000 rows x 4 columns]"
      ]
     },
     "execution_count": 17,
     "metadata": {},
     "output_type": "execute_result"
    }
   ],
   "source": [
    "reviews_and_rates = pd.io.sql.read_sql(query_2, con = engine)\n",
    "\n",
    "reviews_and_rates"
   ]
  },
  {
   "cell_type": "code",
   "execution_count": 18,
   "id": "a2451b3e",
   "metadata": {},
   "outputs": [],
   "source": [
    "#альтернативное решение\n",
    "\n",
    "query_2_2 = '''WITH rev AS (SELECT book_id,\n",
    "                                   COUNT(review_id) AS review_count\n",
    "                            FROM reviews\n",
    "                            GROUP BY 1),\n",
    "               rat AS (SELECT book_id,\n",
    "                              ROUND(AVG(rating), 2) AS rating_avg\n",
    "                       FROM ratings\n",
    "                       GROUP BY 1)\n",
    "               \n",
    "               SELECT b.book_id,\n",
    "                      b.title,\n",
    "                      rev.review_count,\n",
    "                      rat.rating_avg\n",
    "               FROM books b\n",
    "               LEFT JOIN rev ON b.book_id = rev.book_id\n",
    "               LEFT JOIN rat ON b.book_id = rat.book_id\n",
    "               ORDER BY 1;\n",
    "          '''"
   ]
  },
  {
   "cell_type": "code",
   "execution_count": 19,
   "id": "ff3fba84",
   "metadata": {},
   "outputs": [
    {
     "data": {
      "text/html": [
       "<div>\n",
       "<style scoped>\n",
       "    .dataframe tbody tr th:only-of-type {\n",
       "        vertical-align: middle;\n",
       "    }\n",
       "\n",
       "    .dataframe tbody tr th {\n",
       "        vertical-align: top;\n",
       "    }\n",
       "\n",
       "    .dataframe thead th {\n",
       "        text-align: right;\n",
       "    }\n",
       "</style>\n",
       "<table border=\"1\" class=\"dataframe\">\n",
       "  <thead>\n",
       "    <tr style=\"text-align: right;\">\n",
       "      <th></th>\n",
       "      <th>book_id</th>\n",
       "      <th>title</th>\n",
       "      <th>review_count</th>\n",
       "      <th>rating_avg</th>\n",
       "    </tr>\n",
       "  </thead>\n",
       "  <tbody>\n",
       "    <tr>\n",
       "      <th>0</th>\n",
       "      <td>1</td>\n",
       "      <td>'Salem's Lot</td>\n",
       "      <td>2.0</td>\n",
       "      <td>3.67</td>\n",
       "    </tr>\n",
       "    <tr>\n",
       "      <th>1</th>\n",
       "      <td>2</td>\n",
       "      <td>1 000 Places to See Before You Die</td>\n",
       "      <td>1.0</td>\n",
       "      <td>2.50</td>\n",
       "    </tr>\n",
       "    <tr>\n",
       "      <th>2</th>\n",
       "      <td>3</td>\n",
       "      <td>13 Little Blue Envelopes (Little Blue Envelope...</td>\n",
       "      <td>3.0</td>\n",
       "      <td>4.67</td>\n",
       "    </tr>\n",
       "    <tr>\n",
       "      <th>3</th>\n",
       "      <td>4</td>\n",
       "      <td>1491: New Revelations of the Americas Before C...</td>\n",
       "      <td>2.0</td>\n",
       "      <td>4.50</td>\n",
       "    </tr>\n",
       "    <tr>\n",
       "      <th>4</th>\n",
       "      <td>5</td>\n",
       "      <td>1776</td>\n",
       "      <td>4.0</td>\n",
       "      <td>4.00</td>\n",
       "    </tr>\n",
       "    <tr>\n",
       "      <th>...</th>\n",
       "      <td>...</td>\n",
       "      <td>...</td>\n",
       "      <td>...</td>\n",
       "      <td>...</td>\n",
       "    </tr>\n",
       "    <tr>\n",
       "      <th>995</th>\n",
       "      <td>996</td>\n",
       "      <td>Wyrd Sisters (Discworld  #6; Witches #2)</td>\n",
       "      <td>3.0</td>\n",
       "      <td>3.67</td>\n",
       "    </tr>\n",
       "    <tr>\n",
       "      <th>996</th>\n",
       "      <td>997</td>\n",
       "      <td>Xenocide (Ender's Saga  #3)</td>\n",
       "      <td>3.0</td>\n",
       "      <td>3.40</td>\n",
       "    </tr>\n",
       "    <tr>\n",
       "      <th>997</th>\n",
       "      <td>998</td>\n",
       "      <td>Year of Wonders</td>\n",
       "      <td>4.0</td>\n",
       "      <td>3.20</td>\n",
       "    </tr>\n",
       "    <tr>\n",
       "      <th>998</th>\n",
       "      <td>999</td>\n",
       "      <td>You Suck (A Love Story  #2)</td>\n",
       "      <td>2.0</td>\n",
       "      <td>4.50</td>\n",
       "    </tr>\n",
       "    <tr>\n",
       "      <th>999</th>\n",
       "      <td>1000</td>\n",
       "      <td>Zen and the Art of Motorcycle Maintenance: An ...</td>\n",
       "      <td>4.0</td>\n",
       "      <td>3.83</td>\n",
       "    </tr>\n",
       "  </tbody>\n",
       "</table>\n",
       "<p>1000 rows × 4 columns</p>\n",
       "</div>"
      ],
      "text/plain": [
       "     book_id                                              title  review_count  \\\n",
       "0          1                                       'Salem's Lot           2.0   \n",
       "1          2                 1 000 Places to See Before You Die           1.0   \n",
       "2          3  13 Little Blue Envelopes (Little Blue Envelope...           3.0   \n",
       "3          4  1491: New Revelations of the Americas Before C...           2.0   \n",
       "4          5                                               1776           4.0   \n",
       "..       ...                                                ...           ...   \n",
       "995      996           Wyrd Sisters (Discworld  #6; Witches #2)           3.0   \n",
       "996      997                        Xenocide (Ender's Saga  #3)           3.0   \n",
       "997      998                                    Year of Wonders           4.0   \n",
       "998      999                        You Suck (A Love Story  #2)           2.0   \n",
       "999     1000  Zen and the Art of Motorcycle Maintenance: An ...           4.0   \n",
       "\n",
       "     rating_avg  \n",
       "0          3.67  \n",
       "1          2.50  \n",
       "2          4.67  \n",
       "3          4.50  \n",
       "4          4.00  \n",
       "..          ...  \n",
       "995        3.67  \n",
       "996        3.40  \n",
       "997        3.20  \n",
       "998        4.50  \n",
       "999        3.83  \n",
       "\n",
       "[1000 rows x 4 columns]"
      ]
     },
     "execution_count": 19,
     "metadata": {},
     "output_type": "execute_result"
    }
   ],
   "source": [
    "#альтернативное решение\n",
    "\n",
    "reviews_and_rates_2 = pd.io.sql.read_sql(query_2_2, con = engine)\n",
    "\n",
    "reviews_and_rates_2"
   ]
  },
  {
   "cell_type": "markdown",
   "id": "44b1f7bb",
   "metadata": {},
   "source": [
    "<div style=\"border-radius: 15px; border: 3px solid black; padding: 15px;\">\n",
    "    \n",
    "<font size=+2><b> ЗАДАЧА 3. </b></font>\n",
    "\n",
    "Определите издательство, которое выпустило наибольшее число книг толще 50 страниц — так вы исключите из анализа брошюры.\n",
    "\n",
    "Больше всего книг выпустило издательство Penguin Books - 42 штуки. Возможно, стоит рассмотреть более тесные варианты сотрудничества с данным издательством или наоборот, уделить большее внимание другим издательствам.    \n",
    "    \n",
    "</div>"
   ]
  },
  {
   "cell_type": "code",
   "execution_count": 20,
   "id": "26929e80",
   "metadata": {},
   "outputs": [],
   "source": [
    "query_3 = '''SELECT p.publisher,\n",
    "                    COUNT(book_id) AS book_count\n",
    "             FROM books b\n",
    "             LEFT JOIN publishers p ON b.publisher_id = p.publisher_id\n",
    "             WHERE b.num_pages > 50\n",
    "             GROUP BY p.publisher\n",
    "             ORDER BY book_count DESC\n",
    "             LIMIT 1;\n",
    "          '''"
   ]
  },
  {
   "cell_type": "code",
   "execution_count": 21,
   "id": "d0f91a88",
   "metadata": {
    "scrolled": true
   },
   "outputs": [
    {
     "data": {
      "text/html": [
       "<div>\n",
       "<style scoped>\n",
       "    .dataframe tbody tr th:only-of-type {\n",
       "        vertical-align: middle;\n",
       "    }\n",
       "\n",
       "    .dataframe tbody tr th {\n",
       "        vertical-align: top;\n",
       "    }\n",
       "\n",
       "    .dataframe thead th {\n",
       "        text-align: right;\n",
       "    }\n",
       "</style>\n",
       "<table border=\"1\" class=\"dataframe\">\n",
       "  <thead>\n",
       "    <tr style=\"text-align: right;\">\n",
       "      <th></th>\n",
       "      <th>publisher</th>\n",
       "      <th>book_count</th>\n",
       "    </tr>\n",
       "  </thead>\n",
       "  <tbody>\n",
       "    <tr>\n",
       "      <th>0</th>\n",
       "      <td>Penguin Books</td>\n",
       "      <td>42</td>\n",
       "    </tr>\n",
       "  </tbody>\n",
       "</table>\n",
       "</div>"
      ],
      "text/plain": [
       "       publisher  book_count\n",
       "0  Penguin Books          42"
      ]
     },
     "execution_count": 21,
     "metadata": {},
     "output_type": "execute_result"
    }
   ],
   "source": [
    "reviews_and_raits = pd.io.sql.read_sql(query_3, con = engine)\n",
    "\n",
    "reviews_and_raits"
   ]
  },
  {
   "cell_type": "markdown",
   "id": "82de5584",
   "metadata": {},
   "source": [
    "<div style=\"border-radius: 15px; border: 3px solid black; padding: 15px;\">\n",
    "    \n",
    "<font size=+2><b> ЗАДАЧА 4. </b></font>\n",
    "\n",
    "Определите автора с самой высокой средней оценкой книг — учитывайте только книги с 50 и более оценками.\n",
    "\n",
    "Этим автором оказалась Джоан Роулинг со средней пользовательской оценкой в 4.28.\n",
    "    \n",
    "Что интересно, в запросе она указана вместе с иллюстратором Mary GrandPré - возможно, средняя оценка высчитана не для всех книг Роулинг, а только для тех, которые выпущены с иллюстрациями Мари.    \n",
    "    \n",
    "</div>"
   ]
  },
  {
   "cell_type": "code",
   "execution_count": 22,
   "id": "33624650",
   "metadata": {},
   "outputs": [],
   "source": [
    "query_4 = '''WITH rating_info AS (SELECT b.book_id,\n",
    "                                         b.author_id,\n",
    "                                         COUNT(r.rating) as rating_count,\n",
    "                                         AVG(r.rating) as mean_rating\n",
    "                                  FROM books b\n",
    "                                  LEFT JOIN ratings r ON b.book_id = r.book_id\n",
    "                                  GROUP BY 1)\n",
    "             SELECT a.author,\n",
    "                    ROUND(AVG(ri.mean_rating), 2) AS mean_author_rating\n",
    "             FROM rating_info ri\n",
    "             LEFT JOIN authors a ON ri.author_id = a.author_id\n",
    "             WHERE rating_count >= 50\n",
    "             GROUP BY 1\n",
    "             ORDER BY 2 DESC\n",
    "             LIMIT 1;\n",
    "          '''"
   ]
  },
  {
   "cell_type": "code",
   "execution_count": 23,
   "id": "f01e4a8b",
   "metadata": {
    "scrolled": false
   },
   "outputs": [
    {
     "data": {
      "text/html": [
       "<div>\n",
       "<style scoped>\n",
       "    .dataframe tbody tr th:only-of-type {\n",
       "        vertical-align: middle;\n",
       "    }\n",
       "\n",
       "    .dataframe tbody tr th {\n",
       "        vertical-align: top;\n",
       "    }\n",
       "\n",
       "    .dataframe thead th {\n",
       "        text-align: right;\n",
       "    }\n",
       "</style>\n",
       "<table border=\"1\" class=\"dataframe\">\n",
       "  <thead>\n",
       "    <tr style=\"text-align: right;\">\n",
       "      <th></th>\n",
       "      <th>author</th>\n",
       "      <th>mean_author_rating</th>\n",
       "    </tr>\n",
       "  </thead>\n",
       "  <tbody>\n",
       "    <tr>\n",
       "      <th>0</th>\n",
       "      <td>J.K. Rowling/Mary GrandPré</td>\n",
       "      <td>4.28</td>\n",
       "    </tr>\n",
       "  </tbody>\n",
       "</table>\n",
       "</div>"
      ],
      "text/plain": [
       "                       author  mean_author_rating\n",
       "0  J.K. Rowling/Mary GrandPré                4.28"
      ]
     },
     "execution_count": 23,
     "metadata": {},
     "output_type": "execute_result"
    }
   ],
   "source": [
    "highscore_author = pd.io.sql.read_sql(query_4, con = engine)\n",
    "\n",
    "highscore_author"
   ]
  },
  {
   "cell_type": "markdown",
   "id": "dee1953d",
   "metadata": {},
   "source": [
    "<div style=\"border-radius: 15px; border: 3px solid black; padding: 15px;\">\n",
    "    \n",
    "<font size=+2><b> ЗАДАЧА 5. </b></font>\n",
    "\n",
    "Посчитайте среднее количество обзоров от пользователей, которые поставили больше 50 оценок.\n",
    "    \n",
    "Продуктивные пользователи, поставившие больше 50 оценок, менее охотно пишут развёртнутые отзывы - в среднем в два раза меньше, а именно 24 штуки.\n",
    "    \n",
    "</div>"
   ]
  },
  {
   "cell_type": "code",
   "execution_count": 24,
   "id": "4ba53ec1",
   "metadata": {},
   "outputs": [],
   "source": [
    "query_5 = '''WITH user_ratings AS (SELECT username,\n",
    "                                         COUNT(rating_id) as rating_count                    \n",
    "                                   FROM ratings\n",
    "                                   GROUP BY 1\n",
    "                                   HAVING COUNT(rating_id) > 50),\n",
    "             \n",
    "             user_reviews AS (SELECT username,\n",
    "                                     COUNT(review_id) as review_count \n",
    "                              FROM reviews\n",
    "                              GROUP BY 1)\n",
    "             \n",
    "             SELECT ROUND(AVG(rev.review_count), 2) AS mean_review_count\n",
    "             FROM user_ratings rat\n",
    "             LEFT JOIN user_reviews rev ON rat.username = rev.username;\n",
    "          '''"
   ]
  },
  {
   "cell_type": "code",
   "execution_count": 25,
   "id": "a5414960",
   "metadata": {
    "scrolled": false
   },
   "outputs": [
    {
     "data": {
      "text/html": [
       "<div>\n",
       "<style scoped>\n",
       "    .dataframe tbody tr th:only-of-type {\n",
       "        vertical-align: middle;\n",
       "    }\n",
       "\n",
       "    .dataframe tbody tr th {\n",
       "        vertical-align: top;\n",
       "    }\n",
       "\n",
       "    .dataframe thead th {\n",
       "        text-align: right;\n",
       "    }\n",
       "</style>\n",
       "<table border=\"1\" class=\"dataframe\">\n",
       "  <thead>\n",
       "    <tr style=\"text-align: right;\">\n",
       "      <th></th>\n",
       "      <th>mean_review_count</th>\n",
       "    </tr>\n",
       "  </thead>\n",
       "  <tbody>\n",
       "    <tr>\n",
       "      <th>0</th>\n",
       "      <td>24.33</td>\n",
       "    </tr>\n",
       "  </tbody>\n",
       "</table>\n",
       "</div>"
      ],
      "text/plain": [
       "   mean_review_count\n",
       "0              24.33"
      ]
     },
     "execution_count": 25,
     "metadata": {},
     "output_type": "execute_result"
    }
   ],
   "source": [
    "highscore_poster = pd.io.sql.read_sql(query_5, con = engine)\n",
    "\n",
    "highscore_poster"
   ]
  },
  {
   "cell_type": "markdown",
   "id": "2165eb73",
   "metadata": {},
   "source": [
    "<div style=\"border-radius: 15px; border: 3px solid black; padding: 15px;\">\n",
    "    \n",
    "<font size=+2><b> ВЫВОДЫ. </b></font>\n",
    "\n",
    "В данном проекте нам удалось рассмотреть и проанализировать данные из базы данных купленного сервиса по чтению книг по подписке. В ней указаны 1000 книг в основном современных изданий, разных издательств и авторов. У клиентов сервиса есть возможность ставить оценки и оставлять отзывы. Коммьюнити достаточно активно: есть пользователи, оставившие по несколько десятков оценок и отзывов.\n",
    "    \n",
    "</div>"
   ]
  },
  {
   "cell_type": "code",
   "execution_count": null,
   "id": "78ebe694",
   "metadata": {},
   "outputs": [],
   "source": []
  }
 ],
 "metadata": {
  "ExecuteTimeLog": [
   {
    "duration": 486,
    "start_time": "2022-09-06T16:04:54.524Z"
   },
   {
    "duration": 6501,
    "start_time": "2022-09-06T16:04:55.012Z"
   },
   {
    "duration": 2,
    "start_time": "2022-09-06T16:05:01.515Z"
   },
   {
    "duration": 339,
    "start_time": "2022-09-06T16:05:01.519Z"
   },
   {
    "duration": 3,
    "start_time": "2022-09-06T16:05:01.859Z"
   },
   {
    "duration": 120,
    "start_time": "2022-09-06T16:05:01.864Z"
   },
   {
    "duration": 3,
    "start_time": "2022-09-06T16:05:01.986Z"
   },
   {
    "duration": 128,
    "start_time": "2022-09-06T16:05:01.992Z"
   },
   {
    "duration": 2,
    "start_time": "2022-09-06T16:05:02.122Z"
   },
   {
    "duration": 101,
    "start_time": "2022-09-06T16:05:02.127Z"
   },
   {
    "duration": 3,
    "start_time": "2022-09-06T16:05:02.229Z"
   },
   {
    "duration": 102,
    "start_time": "2022-09-06T16:05:02.233Z"
   },
   {
    "duration": 2,
    "start_time": "2022-09-06T16:05:02.337Z"
   },
   {
    "duration": 87,
    "start_time": "2022-09-06T16:05:02.341Z"
   },
   {
    "duration": 4,
    "start_time": "2022-09-06T16:05:02.429Z"
   },
   {
    "duration": 14,
    "start_time": "2022-09-06T16:05:02.434Z"
   },
   {
    "duration": 119,
    "start_time": "2022-09-06T16:05:02.450Z"
   },
   {
    "duration": 3,
    "start_time": "2022-09-06T16:05:02.570Z"
   },
   {
    "duration": 88,
    "start_time": "2022-09-06T16:05:02.574Z"
   },
   {
    "duration": 3,
    "start_time": "2022-09-06T16:05:02.664Z"
   },
   {
    "duration": 89,
    "start_time": "2022-09-06T16:05:02.669Z"
   },
   {
    "duration": 3,
    "start_time": "2022-09-06T16:05:02.760Z"
   },
   {
    "duration": 135,
    "start_time": "2022-09-06T16:05:02.764Z"
   },
   {
    "duration": 485,
    "start_time": "2022-09-07T07:04:31.341Z"
   },
   {
    "duration": 9233,
    "start_time": "2022-09-07T07:04:31.828Z"
   },
   {
    "duration": 2,
    "start_time": "2022-09-07T07:04:41.062Z"
   },
   {
    "duration": 70,
    "start_time": "2022-09-07T07:04:41.066Z"
   },
   {
    "duration": 2,
    "start_time": "2022-09-07T07:04:41.138Z"
   },
   {
    "duration": 12,
    "start_time": "2022-09-07T07:04:41.142Z"
   },
   {
    "duration": 1,
    "start_time": "2022-09-07T07:04:41.156Z"
   },
   {
    "duration": 12,
    "start_time": "2022-09-07T07:04:41.159Z"
   },
   {
    "duration": 2,
    "start_time": "2022-09-07T07:04:41.173Z"
   },
   {
    "duration": 24,
    "start_time": "2022-09-07T07:04:41.177Z"
   },
   {
    "duration": 2,
    "start_time": "2022-09-07T07:04:41.203Z"
   },
   {
    "duration": 21,
    "start_time": "2022-09-07T07:04:41.206Z"
   },
   {
    "duration": 2,
    "start_time": "2022-09-07T07:04:41.228Z"
   },
   {
    "duration": 24,
    "start_time": "2022-09-07T07:04:41.231Z"
   },
   {
    "duration": 4,
    "start_time": "2022-09-07T07:04:41.256Z"
   },
   {
    "duration": 6,
    "start_time": "2022-09-07T07:04:41.261Z"
   },
   {
    "duration": 33,
    "start_time": "2022-09-07T07:04:41.268Z"
   },
   {
    "duration": 2,
    "start_time": "2022-09-07T07:04:41.303Z"
   },
   {
    "duration": 24,
    "start_time": "2022-09-07T07:04:41.307Z"
   },
   {
    "duration": 2,
    "start_time": "2022-09-07T07:04:41.332Z"
   },
   {
    "duration": 15,
    "start_time": "2022-09-07T07:04:41.336Z"
   },
   {
    "duration": 2,
    "start_time": "2022-09-07T07:04:41.352Z"
   },
   {
    "duration": 15,
    "start_time": "2022-09-07T07:04:41.356Z"
   },
   {
    "duration": 2,
    "start_time": "2022-09-07T07:04:41.372Z"
   },
   {
    "duration": 27,
    "start_time": "2022-09-07T07:04:41.376Z"
   },
   {
    "duration": 3,
    "start_time": "2022-09-07T07:04:41.405Z"
   },
   {
    "duration": 22,
    "start_time": "2022-09-07T07:04:41.409Z"
   },
   {
    "duration": 2,
    "start_time": "2022-09-07T07:04:41.434Z"
   },
   {
    "duration": 16,
    "start_time": "2022-09-07T07:04:41.438Z"
   }
  ],
  "kernelspec": {
   "display_name": "Python 3 (ipykernel)",
   "language": "python",
   "name": "python3"
  },
  "language_info": {
   "codemirror_mode": {
    "name": "ipython",
    "version": 3
   },
   "file_extension": ".py",
   "mimetype": "text/x-python",
   "name": "python",
   "nbconvert_exporter": "python",
   "pygments_lexer": "ipython3",
   "version": "3.9.7"
  },
  "toc": {
   "base_numbering": 1,
   "nav_menu": {},
   "number_sections": true,
   "sideBar": true,
   "skip_h1_title": true,
   "title_cell": "Table of Contents",
   "title_sidebar": "Contents",
   "toc_cell": false,
   "toc_position": {},
   "toc_section_display": true,
   "toc_window_display": false
  }
 },
 "nbformat": 4,
 "nbformat_minor": 5
}
