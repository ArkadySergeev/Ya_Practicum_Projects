{
 "cells": [
  {
   "cell_type": "markdown",
   "id": "ab1a3715",
   "metadata": {},
   "source": [
    "<div style=\"border-radius: 15px; border: 3px solid black; padding: 15px;\">\n",
    "<font size=+2><b> ОЦЕНКА РЕЗУЛЬТАТОВ АВ ТЕСТА </b></font>\n",
    "\n",
    "Вы — аналитик крупного интернет-магазина. Вместе с отделом маркетинга вы подготовили список гипотез для увеличения выручки.\n",
    "Приоритизируйте гипотезы, запустите A/B-тест и проанализируйте результаты.\n",
    "\n",
    "<font size=+2><b> ПЛАН РАБОТЫ: </b></font>\n",
    "\n",
    "<font size=+1><b> 1. Приоритизация гипотез. </b></font>\n",
    "\n",
    "В файле /datasets/hypothesis.csv 9 гипотез по увеличению выручки интернет-магазина с указанными параметрами Reach, Impact, Confidence, Effort.\n",
    "- Примените фреймворк ICE для приоритизации гипотез. Отсортируйте их по убыванию приоритета.\n",
    "- Примените фреймворк RICE для приоритизации гипотез. Отсортируйте их по убыванию приоритета.\n",
    "- Укажите, как изменилась приоритизация гипотез при применении RICE вместо ICE. Объясните, почему так произошло.\n",
    "\n",
    "<font size=+1><b> 2. Подготовка данных. </b></font>\n",
    "\n",
    "<font size=+1><b> 3. Анализ A/B-теста. </b></font>\n",
    "\n",
    "Вы провели A/B-тест и получили результаты, которые описаны в файлах /datasets/orders.csv и /datasets/visitors.csv. Проанализируйте A/B-тест:\n",
    "- Постройте график кумулятивной выручки по группам. Сделайте выводы и предположения.\n",
    "- Постройте график кумулятивного среднего чека по группам. Сделайте выводы и предположения.\n",
    "- Постройте график относительного изменения кумулятивного среднего чека группы B к группе A. Сделайте выводы и предположения.\n",
    "- Постройте график кумулятивной конверсии по группам. Сделайте выводы и предположения.\n",
    "- Постройте график относительного изменения кумулятивной конверсии группы B к группе A. Сделайте выводы и предположения.\n",
    "- Постройте точечный график количества заказов по пользователям. Сделайте выводы и предположения.\n",
    "- Посчитайте 95-й и 99-й перцентили количества заказов на пользователя. Выберите границу для определения аномальных пользователей.\n",
    "- Постройте точечный график стоимостей заказов. Сделайте выводы и предположения.\n",
    "- Посчитайте 95-й и 99-й перцентили стоимости заказов. Выберите границу для определения аномальных заказов.\n",
    "- Посчитайте статистическую значимость различий в конверсии между группами по «сырым» данным. Сделайте выводы и предположения.\n",
    "- Посчитайте статистическую значимость различий в среднем чеке заказа между группами по «сырым» данным. Сделайте выводы и предположения.\n",
    "- Посчитайте статистическую значимость различий в конверсии между группами по «очищенным» данным. Сделайте выводы и предположения.\n",
    "- Посчитайте статистическую значимость различий в среднем чеке заказа между группами по «очищенным» данным. Сделайте выводы и предположения.\n",
    "\n",
    "<font size=+1><b> 4. Выводы. </b></font>\n",
    "\n",
    "Примите решение по результатам теста и объясните его. Варианты решений:\n",
    "- Остановить тест, зафиксировать победу одной из групп.\n",
    "- Остановить тест, зафиксировать отсутствие различий между группами.\n",
    "- Продолжить тест.\n",
    "</div>    "
   ]
  },
  {
   "cell_type": "markdown",
   "id": "0046ced0",
   "metadata": {},
   "source": [
    "<div style=\"border-radius: 15px; border: 3px solid black; padding: 15px;\">\n",
    "<font size=+2><b> 1. ПРИОРИТИЗАЦИЯ ГИПОТЕЗ. </b></font>\n",
    "\n",
    "<font size=+1><b> 1.1. Загрузка данных о гипотезах. </b></font>\n",
    "\n",
    "Описание данных:\n",
    "- Hypothesis — краткое описание гипотезы;\n",
    "- Reach — охват пользователей по 10-балльной шкале;\n",
    "- Impact — влияние на пользователей по 10-балльной шкале;\n",
    "- Confidence — уверенность в гипотезе по 10-балльной шкале;\n",
    "- Efforts — затраты ресурсов на проверку гипотезы по 10-балльной шкале. Чем больше значение Efforts, тем дороже проверка гипотезы.\n",
    "</div>"
   ]
  },
  {
   "cell_type": "code",
   "execution_count": 1,
   "id": "8c2646e2",
   "metadata": {},
   "outputs": [],
   "source": [
    "import pandas as pd\n",
    "import matplotlib.pyplot as plt\n",
    "import numpy as np\n",
    "import math\n",
    "from scipy import stats as st"
   ]
  },
  {
   "cell_type": "code",
   "execution_count": 2,
   "id": "20c9a14a",
   "metadata": {},
   "outputs": [],
   "source": [
    "try:\n",
    "    hyp = pd.read_csv('hypothesis.csv')\n",
    "except:\n",
    "    hyp = pd.read_csv('/datasets/hypothesis.csv')"
   ]
  },
  {
   "cell_type": "code",
   "execution_count": 3,
   "id": "957faff3",
   "metadata": {},
   "outputs": [
    {
     "data": {
      "text/html": [
       "<div>\n",
       "<style scoped>\n",
       "    .dataframe tbody tr th:only-of-type {\n",
       "        vertical-align: middle;\n",
       "    }\n",
       "\n",
       "    .dataframe tbody tr th {\n",
       "        vertical-align: top;\n",
       "    }\n",
       "\n",
       "    .dataframe thead th {\n",
       "        text-align: right;\n",
       "    }\n",
       "</style>\n",
       "<table border=\"1\" class=\"dataframe\">\n",
       "  <thead>\n",
       "    <tr style=\"text-align: right;\">\n",
       "      <th></th>\n",
       "      <th>Hypothesis</th>\n",
       "      <th>Reach</th>\n",
       "      <th>Impact</th>\n",
       "      <th>Confidence</th>\n",
       "      <th>Efforts</th>\n",
       "    </tr>\n",
       "  </thead>\n",
       "  <tbody>\n",
       "    <tr>\n",
       "      <th>0</th>\n",
       "      <td>Добавить два новых канала привлечения трафика,...</td>\n",
       "      <td>3</td>\n",
       "      <td>10</td>\n",
       "      <td>8</td>\n",
       "      <td>6</td>\n",
       "    </tr>\n",
       "    <tr>\n",
       "      <th>1</th>\n",
       "      <td>Запустить собственную службу доставки, что сок...</td>\n",
       "      <td>2</td>\n",
       "      <td>5</td>\n",
       "      <td>4</td>\n",
       "      <td>10</td>\n",
       "    </tr>\n",
       "    <tr>\n",
       "      <th>2</th>\n",
       "      <td>Добавить блоки рекомендаций товаров на сайт ин...</td>\n",
       "      <td>8</td>\n",
       "      <td>3</td>\n",
       "      <td>7</td>\n",
       "      <td>3</td>\n",
       "    </tr>\n",
       "    <tr>\n",
       "      <th>3</th>\n",
       "      <td>Изменить структура категорий, что увеличит кон...</td>\n",
       "      <td>8</td>\n",
       "      <td>3</td>\n",
       "      <td>3</td>\n",
       "      <td>8</td>\n",
       "    </tr>\n",
       "    <tr>\n",
       "      <th>4</th>\n",
       "      <td>Изменить цвет фона главной страницы, чтобы уве...</td>\n",
       "      <td>3</td>\n",
       "      <td>1</td>\n",
       "      <td>1</td>\n",
       "      <td>1</td>\n",
       "    </tr>\n",
       "    <tr>\n",
       "      <th>5</th>\n",
       "      <td>Добавить страницу отзывов клиентов о магазине,...</td>\n",
       "      <td>3</td>\n",
       "      <td>2</td>\n",
       "      <td>2</td>\n",
       "      <td>3</td>\n",
       "    </tr>\n",
       "    <tr>\n",
       "      <th>6</th>\n",
       "      <td>Показать на главной странице баннеры с актуаль...</td>\n",
       "      <td>5</td>\n",
       "      <td>3</td>\n",
       "      <td>8</td>\n",
       "      <td>3</td>\n",
       "    </tr>\n",
       "    <tr>\n",
       "      <th>7</th>\n",
       "      <td>Добавить форму подписки на все основные страни...</td>\n",
       "      <td>10</td>\n",
       "      <td>7</td>\n",
       "      <td>8</td>\n",
       "      <td>5</td>\n",
       "    </tr>\n",
       "    <tr>\n",
       "      <th>8</th>\n",
       "      <td>Запустить акцию, дающую скидку на товар в день...</td>\n",
       "      <td>1</td>\n",
       "      <td>9</td>\n",
       "      <td>9</td>\n",
       "      <td>5</td>\n",
       "    </tr>\n",
       "  </tbody>\n",
       "</table>\n",
       "</div>"
      ],
      "text/plain": [
       "                                          Hypothesis  Reach  Impact  \\\n",
       "0  Добавить два новых канала привлечения трафика,...      3      10   \n",
       "1  Запустить собственную службу доставки, что сок...      2       5   \n",
       "2  Добавить блоки рекомендаций товаров на сайт ин...      8       3   \n",
       "3  Изменить структура категорий, что увеличит кон...      8       3   \n",
       "4  Изменить цвет фона главной страницы, чтобы уве...      3       1   \n",
       "5  Добавить страницу отзывов клиентов о магазине,...      3       2   \n",
       "6  Показать на главной странице баннеры с актуаль...      5       3   \n",
       "7  Добавить форму подписки на все основные страни...     10       7   \n",
       "8  Запустить акцию, дающую скидку на товар в день...      1       9   \n",
       "\n",
       "   Confidence  Efforts  \n",
       "0           8        6  \n",
       "1           4       10  \n",
       "2           7        3  \n",
       "3           3        8  \n",
       "4           1        1  \n",
       "5           2        3  \n",
       "6           8        3  \n",
       "7           8        5  \n",
       "8           9        5  "
      ]
     },
     "execution_count": 3,
     "metadata": {},
     "output_type": "execute_result"
    }
   ],
   "source": [
    "hyp"
   ]
  },
  {
   "cell_type": "markdown",
   "id": "2a6c57a1",
   "metadata": {},
   "source": [
    "<div style=\"border-radius: 15px; border: 3px solid black; padding: 15px;\">\n",
    "<font size=+1><b> 1.2. Применение фреймворка ICE для приоритизации гипотез. </b></font>\n",
    "\n",
    "По данному фреймворку наиболее приоритетная гипотеза под номером 8 (\"Запустить акцию, дающую скидку на товар в день рождения\").\n",
    "</div>"
   ]
  },
  {
   "cell_type": "code",
   "execution_count": 4,
   "id": "bbf1a362",
   "metadata": {
    "scrolled": true
   },
   "outputs": [
    {
     "data": {
      "text/html": [
       "<div>\n",
       "<style scoped>\n",
       "    .dataframe tbody tr th:only-of-type {\n",
       "        vertical-align: middle;\n",
       "    }\n",
       "\n",
       "    .dataframe tbody tr th {\n",
       "        vertical-align: top;\n",
       "    }\n",
       "\n",
       "    .dataframe thead th {\n",
       "        text-align: right;\n",
       "    }\n",
       "</style>\n",
       "<table border=\"1\" class=\"dataframe\">\n",
       "  <thead>\n",
       "    <tr style=\"text-align: right;\">\n",
       "      <th></th>\n",
       "      <th>Hypothesis</th>\n",
       "      <th>Reach</th>\n",
       "      <th>Impact</th>\n",
       "      <th>Confidence</th>\n",
       "      <th>Efforts</th>\n",
       "      <th>ICE</th>\n",
       "    </tr>\n",
       "  </thead>\n",
       "  <tbody>\n",
       "    <tr>\n",
       "      <th>8</th>\n",
       "      <td>Запустить акцию, дающую скидку на товар в день...</td>\n",
       "      <td>1</td>\n",
       "      <td>9</td>\n",
       "      <td>9</td>\n",
       "      <td>5</td>\n",
       "      <td>16.200000</td>\n",
       "    </tr>\n",
       "    <tr>\n",
       "      <th>0</th>\n",
       "      <td>Добавить два новых канала привлечения трафика,...</td>\n",
       "      <td>3</td>\n",
       "      <td>10</td>\n",
       "      <td>8</td>\n",
       "      <td>6</td>\n",
       "      <td>13.333333</td>\n",
       "    </tr>\n",
       "    <tr>\n",
       "      <th>7</th>\n",
       "      <td>Добавить форму подписки на все основные страни...</td>\n",
       "      <td>10</td>\n",
       "      <td>7</td>\n",
       "      <td>8</td>\n",
       "      <td>5</td>\n",
       "      <td>11.200000</td>\n",
       "    </tr>\n",
       "    <tr>\n",
       "      <th>6</th>\n",
       "      <td>Показать на главной странице баннеры с актуаль...</td>\n",
       "      <td>5</td>\n",
       "      <td>3</td>\n",
       "      <td>8</td>\n",
       "      <td>3</td>\n",
       "      <td>8.000000</td>\n",
       "    </tr>\n",
       "    <tr>\n",
       "      <th>2</th>\n",
       "      <td>Добавить блоки рекомендаций товаров на сайт ин...</td>\n",
       "      <td>8</td>\n",
       "      <td>3</td>\n",
       "      <td>7</td>\n",
       "      <td>3</td>\n",
       "      <td>7.000000</td>\n",
       "    </tr>\n",
       "    <tr>\n",
       "      <th>1</th>\n",
       "      <td>Запустить собственную службу доставки, что сок...</td>\n",
       "      <td>2</td>\n",
       "      <td>5</td>\n",
       "      <td>4</td>\n",
       "      <td>10</td>\n",
       "      <td>2.000000</td>\n",
       "    </tr>\n",
       "    <tr>\n",
       "      <th>5</th>\n",
       "      <td>Добавить страницу отзывов клиентов о магазине,...</td>\n",
       "      <td>3</td>\n",
       "      <td>2</td>\n",
       "      <td>2</td>\n",
       "      <td>3</td>\n",
       "      <td>1.333333</td>\n",
       "    </tr>\n",
       "    <tr>\n",
       "      <th>3</th>\n",
       "      <td>Изменить структура категорий, что увеличит кон...</td>\n",
       "      <td>8</td>\n",
       "      <td>3</td>\n",
       "      <td>3</td>\n",
       "      <td>8</td>\n",
       "      <td>1.125000</td>\n",
       "    </tr>\n",
       "    <tr>\n",
       "      <th>4</th>\n",
       "      <td>Изменить цвет фона главной страницы, чтобы уве...</td>\n",
       "      <td>3</td>\n",
       "      <td>1</td>\n",
       "      <td>1</td>\n",
       "      <td>1</td>\n",
       "      <td>1.000000</td>\n",
       "    </tr>\n",
       "  </tbody>\n",
       "</table>\n",
       "</div>"
      ],
      "text/plain": [
       "                                          Hypothesis  Reach  Impact  \\\n",
       "8  Запустить акцию, дающую скидку на товар в день...      1       9   \n",
       "0  Добавить два новых канала привлечения трафика,...      3      10   \n",
       "7  Добавить форму подписки на все основные страни...     10       7   \n",
       "6  Показать на главной странице баннеры с актуаль...      5       3   \n",
       "2  Добавить блоки рекомендаций товаров на сайт ин...      8       3   \n",
       "1  Запустить собственную службу доставки, что сок...      2       5   \n",
       "5  Добавить страницу отзывов клиентов о магазине,...      3       2   \n",
       "3  Изменить структура категорий, что увеличит кон...      8       3   \n",
       "4  Изменить цвет фона главной страницы, чтобы уве...      3       1   \n",
       "\n",
       "   Confidence  Efforts        ICE  \n",
       "8           9        5  16.200000  \n",
       "0           8        6  13.333333  \n",
       "7           8        5  11.200000  \n",
       "6           8        3   8.000000  \n",
       "2           7        3   7.000000  \n",
       "1           4       10   2.000000  \n",
       "5           2        3   1.333333  \n",
       "3           3        8   1.125000  \n",
       "4           1        1   1.000000  "
      ]
     },
     "metadata": {},
     "output_type": "display_data"
    },
    {
     "name": "stdout",
     "output_type": "stream",
     "text": [
      "Приоритетнейшая гипотеза по фреймворку ICE: \" Запустить акцию, дающую скидку на товар в день рождения \"\n"
     ]
    }
   ],
   "source": [
    "hyp['ICE'] = hyp['Impact'] * hyp['Confidence'] / hyp['Efforts']\n",
    "\n",
    "display(hyp.sort_values(by='ICE', ascending=False))\n",
    "\n",
    "print('Приоритетнейшая гипотеза по фреймворку ICE: \"', hyp.loc[8, 'Hypothesis'], '\"')"
   ]
  },
  {
   "cell_type": "markdown",
   "id": "07353b93",
   "metadata": {},
   "source": [
    "<div style=\"border-radius: 15px; border: 3px solid black; padding: 15px;\">\n",
    "<font size=+1><b> 1.3. Применение фреймворка RICE для приоритизации гипотез. </b></font>\n",
    "\n",
    "По данному фреймворку наиболее приоритетная гипотеза под номером 7 (\"Добавить форму подписки на все основные страницы, чтобы собрать базу клиентов для email-рассылок\"). Данная гипотеза была на 3-ем месте по параметру ICE, а сейчас выбилась в лидеру благодаря максимальному параметру Reach (охвату). У двух предыдуших лидеров данный показатель очень мал.\n",
    "</div>"
   ]
  },
  {
   "cell_type": "code",
   "execution_count": 5,
   "id": "ee349f98",
   "metadata": {
    "scrolled": true
   },
   "outputs": [
    {
     "data": {
      "text/html": [
       "<div>\n",
       "<style scoped>\n",
       "    .dataframe tbody tr th:only-of-type {\n",
       "        vertical-align: middle;\n",
       "    }\n",
       "\n",
       "    .dataframe tbody tr th {\n",
       "        vertical-align: top;\n",
       "    }\n",
       "\n",
       "    .dataframe thead th {\n",
       "        text-align: right;\n",
       "    }\n",
       "</style>\n",
       "<table border=\"1\" class=\"dataframe\">\n",
       "  <thead>\n",
       "    <tr style=\"text-align: right;\">\n",
       "      <th></th>\n",
       "      <th>Hypothesis</th>\n",
       "      <th>Reach</th>\n",
       "      <th>Impact</th>\n",
       "      <th>Confidence</th>\n",
       "      <th>Efforts</th>\n",
       "      <th>ICE</th>\n",
       "      <th>RICE</th>\n",
       "    </tr>\n",
       "  </thead>\n",
       "  <tbody>\n",
       "    <tr>\n",
       "      <th>7</th>\n",
       "      <td>Добавить форму подписки на все основные страни...</td>\n",
       "      <td>10</td>\n",
       "      <td>7</td>\n",
       "      <td>8</td>\n",
       "      <td>5</td>\n",
       "      <td>11.200000</td>\n",
       "      <td>112.0</td>\n",
       "    </tr>\n",
       "    <tr>\n",
       "      <th>2</th>\n",
       "      <td>Добавить блоки рекомендаций товаров на сайт ин...</td>\n",
       "      <td>8</td>\n",
       "      <td>3</td>\n",
       "      <td>7</td>\n",
       "      <td>3</td>\n",
       "      <td>7.000000</td>\n",
       "      <td>56.0</td>\n",
       "    </tr>\n",
       "    <tr>\n",
       "      <th>0</th>\n",
       "      <td>Добавить два новых канала привлечения трафика,...</td>\n",
       "      <td>3</td>\n",
       "      <td>10</td>\n",
       "      <td>8</td>\n",
       "      <td>6</td>\n",
       "      <td>13.333333</td>\n",
       "      <td>40.0</td>\n",
       "    </tr>\n",
       "    <tr>\n",
       "      <th>6</th>\n",
       "      <td>Показать на главной странице баннеры с актуаль...</td>\n",
       "      <td>5</td>\n",
       "      <td>3</td>\n",
       "      <td>8</td>\n",
       "      <td>3</td>\n",
       "      <td>8.000000</td>\n",
       "      <td>40.0</td>\n",
       "    </tr>\n",
       "    <tr>\n",
       "      <th>8</th>\n",
       "      <td>Запустить акцию, дающую скидку на товар в день...</td>\n",
       "      <td>1</td>\n",
       "      <td>9</td>\n",
       "      <td>9</td>\n",
       "      <td>5</td>\n",
       "      <td>16.200000</td>\n",
       "      <td>16.2</td>\n",
       "    </tr>\n",
       "    <tr>\n",
       "      <th>3</th>\n",
       "      <td>Изменить структура категорий, что увеличит кон...</td>\n",
       "      <td>8</td>\n",
       "      <td>3</td>\n",
       "      <td>3</td>\n",
       "      <td>8</td>\n",
       "      <td>1.125000</td>\n",
       "      <td>9.0</td>\n",
       "    </tr>\n",
       "    <tr>\n",
       "      <th>1</th>\n",
       "      <td>Запустить собственную службу доставки, что сок...</td>\n",
       "      <td>2</td>\n",
       "      <td>5</td>\n",
       "      <td>4</td>\n",
       "      <td>10</td>\n",
       "      <td>2.000000</td>\n",
       "      <td>4.0</td>\n",
       "    </tr>\n",
       "    <tr>\n",
       "      <th>5</th>\n",
       "      <td>Добавить страницу отзывов клиентов о магазине,...</td>\n",
       "      <td>3</td>\n",
       "      <td>2</td>\n",
       "      <td>2</td>\n",
       "      <td>3</td>\n",
       "      <td>1.333333</td>\n",
       "      <td>4.0</td>\n",
       "    </tr>\n",
       "    <tr>\n",
       "      <th>4</th>\n",
       "      <td>Изменить цвет фона главной страницы, чтобы уве...</td>\n",
       "      <td>3</td>\n",
       "      <td>1</td>\n",
       "      <td>1</td>\n",
       "      <td>1</td>\n",
       "      <td>1.000000</td>\n",
       "      <td>3.0</td>\n",
       "    </tr>\n",
       "  </tbody>\n",
       "</table>\n",
       "</div>"
      ],
      "text/plain": [
       "                                          Hypothesis  Reach  Impact  \\\n",
       "7  Добавить форму подписки на все основные страни...     10       7   \n",
       "2  Добавить блоки рекомендаций товаров на сайт ин...      8       3   \n",
       "0  Добавить два новых канала привлечения трафика,...      3      10   \n",
       "6  Показать на главной странице баннеры с актуаль...      5       3   \n",
       "8  Запустить акцию, дающую скидку на товар в день...      1       9   \n",
       "3  Изменить структура категорий, что увеличит кон...      8       3   \n",
       "1  Запустить собственную службу доставки, что сок...      2       5   \n",
       "5  Добавить страницу отзывов клиентов о магазине,...      3       2   \n",
       "4  Изменить цвет фона главной страницы, чтобы уве...      3       1   \n",
       "\n",
       "   Confidence  Efforts        ICE   RICE  \n",
       "7           8        5  11.200000  112.0  \n",
       "2           7        3   7.000000   56.0  \n",
       "0           8        6  13.333333   40.0  \n",
       "6           8        3   8.000000   40.0  \n",
       "8           9        5  16.200000   16.2  \n",
       "3           3        8   1.125000    9.0  \n",
       "1           4       10   2.000000    4.0  \n",
       "5           2        3   1.333333    4.0  \n",
       "4           1        1   1.000000    3.0  "
      ]
     },
     "metadata": {},
     "output_type": "display_data"
    },
    {
     "name": "stdout",
     "output_type": "stream",
     "text": [
      "Приоритетнейшая гипотеза по фреймворку RICE: \" Добавить форму подписки на все основные страницы, чтобы собрать базу клиентов для email-рассылок \"\n"
     ]
    }
   ],
   "source": [
    "hyp['RICE'] = hyp['Impact'] * hyp['Confidence'] * hyp['Reach'] / hyp['Efforts']\n",
    "\n",
    "display(hyp.sort_values(by='RICE', ascending=False))\n",
    "\n",
    "print('Приоритетнейшая гипотеза по фреймворку RICE: \"', hyp.loc[7, 'Hypothesis'], '\"')"
   ]
  },
  {
   "cell_type": "markdown",
   "id": "2ac4e6d5",
   "metadata": {},
   "source": [
    "<div style=\"border-radius: 15px; border: 3px solid black; padding: 15px;\">\n",
    "<font size=+2><b> 2. ПОДГОТОВКА ДАННЫХ. </b></font>\n",
    "\n",
    "<font size=+1><b> 2.1. Загрузка данных A/B-теста и общая информация. </b></font>\n",
    "\n",
    "Описание данных, файл /datasets/orders.csv:\n",
    "- transactionId — идентификатор заказа;\n",
    "- visitorId — идентификатор пользователя, совершившего заказ;\n",
    "- date — дата, когда был совершён заказ;\n",
    "- revenue — выручка заказа;\n",
    "- group — группа A/B-теста, в которую попал заказ.\n",
    "\n",
    "Файл /datasets/visitors.csv:\n",
    "- date — дата;\n",
    "- group — группа A/B-теста;\n",
    "- visitors — количество пользователей в указанную дату в указанной группе A/B-теста.\n",
    "</div>"
   ]
  },
  {
   "cell_type": "code",
   "execution_count": 6,
   "id": "4412b44d",
   "metadata": {},
   "outputs": [],
   "source": [
    "try:\n",
    "    orders = pd.read_csv('orders.csv')\n",
    "    visitors = pd.read_csv('visitors.csv')\n",
    "except:\n",
    "    orders = pd.read_csv('/datasets/orders.csv')\n",
    "    visitors = pd.read_csv('/datasets/visitors.csv')"
   ]
  },
  {
   "cell_type": "code",
   "execution_count": 7,
   "id": "8cebca6f",
   "metadata": {},
   "outputs": [
    {
     "name": "stdout",
     "output_type": "stream",
     "text": [
      "<class 'pandas.core.frame.DataFrame'>\n",
      "RangeIndex: 1197 entries, 0 to 1196\n",
      "Data columns (total 5 columns):\n",
      " #   Column         Non-Null Count  Dtype \n",
      "---  ------         --------------  ----- \n",
      " 0   transactionId  1197 non-null   int64 \n",
      " 1   visitorId      1197 non-null   int64 \n",
      " 2   date           1197 non-null   object\n",
      " 3   revenue        1197 non-null   int64 \n",
      " 4   group          1197 non-null   object\n",
      "dtypes: int64(3), object(2)\n",
      "memory usage: 46.9+ KB\n",
      "\n",
      "<class 'pandas.core.frame.DataFrame'>\n",
      "RangeIndex: 62 entries, 0 to 61\n",
      "Data columns (total 3 columns):\n",
      " #   Column    Non-Null Count  Dtype \n",
      "---  ------    --------------  ----- \n",
      " 0   date      62 non-null     object\n",
      " 1   group     62 non-null     object\n",
      " 2   visitors  62 non-null     int64 \n",
      "dtypes: int64(1), object(2)\n",
      "memory usage: 1.6+ KB\n"
     ]
    }
   ],
   "source": [
    "orders.info()\n",
    "print()\n",
    "\n",
    "visitors.info()"
   ]
  },
  {
   "cell_type": "markdown",
   "id": "b87f1434",
   "metadata": {},
   "source": [
    "<div style=\"border-radius: 15px; border: 3px solid black; padding: 15px;\">\n",
    "<font size=+1><b> 2.2. Поиск пропущенных значений. </b></font>\n",
    "\n",
    "Проущенных значений в датасетах нет.\n",
    "\n",
    "<font size=+1><b> 2.3. Изменение типа данных. </b></font>\n",
    "\n",
    "Приведём данные с id к типу object, с датами - к типу datetime. Также приведём названия столбцов в orders к \"змеиному\" регистру.\n",
    "</div>"
   ]
  },
  {
   "cell_type": "code",
   "execution_count": 8,
   "id": "bf125398",
   "metadata": {},
   "outputs": [
    {
     "name": "stdout",
     "output_type": "stream",
     "text": [
      "<class 'pandas.core.frame.DataFrame'>\n",
      "RangeIndex: 1197 entries, 0 to 1196\n",
      "Data columns (total 5 columns):\n",
      " #   Column          Non-Null Count  Dtype         \n",
      "---  ------          --------------  -----         \n",
      " 0   transaction_id  1197 non-null   object        \n",
      " 1   visitor_id      1197 non-null   object        \n",
      " 2   date            1197 non-null   datetime64[ns]\n",
      " 3   revenue         1197 non-null   int64         \n",
      " 4   group           1197 non-null   object        \n",
      "dtypes: datetime64[ns](1), int64(1), object(3)\n",
      "memory usage: 46.9+ KB\n"
     ]
    }
   ],
   "source": [
    "orders = orders.rename(columns={'transactionId': 'transaction_id', 'visitorId': 'visitor_id'})\n",
    "orders[['transaction_id', 'visitor_id']] = orders[['transaction_id', 'visitor_id']].astype('object')\n",
    "orders['date'] = pd.to_datetime(orders['date'])\n",
    "\n",
    "orders.info()"
   ]
  },
  {
   "cell_type": "code",
   "execution_count": 9,
   "id": "3ee6851a",
   "metadata": {},
   "outputs": [
    {
     "name": "stdout",
     "output_type": "stream",
     "text": [
      "<class 'pandas.core.frame.DataFrame'>\n",
      "RangeIndex: 62 entries, 0 to 61\n",
      "Data columns (total 3 columns):\n",
      " #   Column    Non-Null Count  Dtype         \n",
      "---  ------    --------------  -----         \n",
      " 0   date      62 non-null     datetime64[ns]\n",
      " 1   group     62 non-null     object        \n",
      " 2   visitors  62 non-null     int64         \n",
      "dtypes: datetime64[ns](1), int64(1), object(1)\n",
      "memory usage: 1.6+ KB\n"
     ]
    }
   ],
   "source": [
    "visitors['date'] = pd.to_datetime(visitors['date'])\n",
    "\n",
    "visitors.info()"
   ]
  },
  {
   "cell_type": "markdown",
   "id": "33dfa971",
   "metadata": {},
   "source": [
    "<div style=\"border-radius: 15px; border: 3px solid black; padding: 15px;\">\n",
    "<font size=+1><b> 2.4. Поиск дубликатов. </b></font>\n",
    "\n",
    "Осуществим поиск дубликатов в датасетах: явных и неявных (в тех столбцах, где это имеет смысл).\n",
    "\n",
    "И явных, и неявных дубликатов нигде не обнаружено.\n",
    "</div>"
   ]
  },
  {
   "cell_type": "code",
   "execution_count": 10,
   "id": "21f09251",
   "metadata": {},
   "outputs": [
    {
     "name": "stdout",
     "output_type": "stream",
     "text": [
      "Количество явных дубликатов в orders: 0 \n",
      "\n",
      "Количество явных дубликатов в visitors: 0\n"
     ]
    }
   ],
   "source": [
    "print('Количество явных дубликатов в orders:', orders.duplicated().sum(), '\\n')\n",
    "print('Количество явных дубликатов в visitors:', visitors.duplicated().sum())"
   ]
  },
  {
   "cell_type": "code",
   "execution_count": 11,
   "id": "79d66fb5",
   "metadata": {
    "scrolled": true
   },
   "outputs": [
    {
     "name": "stdout",
     "output_type": "stream",
     "text": [
      "Дубликаты в transaction_id (датасет orders): 0 \n",
      "\n",
      "Уникальные значения в group (датасет orders): ['A' 'B'] \n",
      "\n",
      "Уникальные значения в group (датасет visitors): ['A' 'B'] \n",
      "\n"
     ]
    }
   ],
   "source": [
    "print('Дубликаты в transaction_id (датасет orders):', orders.shape[0] - orders['transaction_id'].nunique(), '\\n')\n",
    "print('Уникальные значения в group (датасет orders):', orders.sort_values(by='group')['group'].unique(), '\\n')\n",
    "print('Уникальные значения в group (датасет visitors):', visitors.sort_values(by='group')['group'].unique(), '\\n')"
   ]
  },
  {
   "cell_type": "code",
   "execution_count": 12,
   "id": "0d84d5f5",
   "metadata": {},
   "outputs": [
    {
     "data": {
      "text/html": [
       "<div>\n",
       "<style scoped>\n",
       "    .dataframe tbody tr th:only-of-type {\n",
       "        vertical-align: middle;\n",
       "    }\n",
       "\n",
       "    .dataframe tbody tr th {\n",
       "        vertical-align: top;\n",
       "    }\n",
       "\n",
       "    .dataframe thead th {\n",
       "        text-align: right;\n",
       "    }\n",
       "</style>\n",
       "<table border=\"1\" class=\"dataframe\">\n",
       "  <thead>\n",
       "    <tr style=\"text-align: right;\">\n",
       "      <th></th>\n",
       "      <th>transaction_id</th>\n",
       "      <th>visitor_id</th>\n",
       "      <th>date</th>\n",
       "      <th>revenue</th>\n",
       "      <th>group</th>\n",
       "    </tr>\n",
       "  </thead>\n",
       "  <tbody>\n",
       "    <tr>\n",
       "      <th>0</th>\n",
       "      <td>3667963787</td>\n",
       "      <td>3312258926</td>\n",
       "      <td>2019-08-15</td>\n",
       "      <td>1650</td>\n",
       "      <td>B</td>\n",
       "    </tr>\n",
       "    <tr>\n",
       "      <th>1</th>\n",
       "      <td>2804400009</td>\n",
       "      <td>3642806036</td>\n",
       "      <td>2019-08-15</td>\n",
       "      <td>730</td>\n",
       "      <td>B</td>\n",
       "    </tr>\n",
       "    <tr>\n",
       "      <th>2</th>\n",
       "      <td>2961555356</td>\n",
       "      <td>4069496402</td>\n",
       "      <td>2019-08-15</td>\n",
       "      <td>400</td>\n",
       "      <td>A</td>\n",
       "    </tr>\n",
       "    <tr>\n",
       "      <th>3</th>\n",
       "      <td>3797467345</td>\n",
       "      <td>1196621759</td>\n",
       "      <td>2019-08-15</td>\n",
       "      <td>9759</td>\n",
       "      <td>B</td>\n",
       "    </tr>\n",
       "    <tr>\n",
       "      <th>4</th>\n",
       "      <td>2282983706</td>\n",
       "      <td>2322279887</td>\n",
       "      <td>2019-08-15</td>\n",
       "      <td>2308</td>\n",
       "      <td>B</td>\n",
       "    </tr>\n",
       "    <tr>\n",
       "      <th>...</th>\n",
       "      <td>...</td>\n",
       "      <td>...</td>\n",
       "      <td>...</td>\n",
       "      <td>...</td>\n",
       "      <td>...</td>\n",
       "    </tr>\n",
       "    <tr>\n",
       "      <th>1192</th>\n",
       "      <td>2662137336</td>\n",
       "      <td>3733762160</td>\n",
       "      <td>2019-08-14</td>\n",
       "      <td>6490</td>\n",
       "      <td>B</td>\n",
       "    </tr>\n",
       "    <tr>\n",
       "      <th>1193</th>\n",
       "      <td>2203539145</td>\n",
       "      <td>370388673</td>\n",
       "      <td>2019-08-14</td>\n",
       "      <td>3190</td>\n",
       "      <td>A</td>\n",
       "    </tr>\n",
       "    <tr>\n",
       "      <th>1194</th>\n",
       "      <td>1807773912</td>\n",
       "      <td>573423106</td>\n",
       "      <td>2019-08-14</td>\n",
       "      <td>10550</td>\n",
       "      <td>A</td>\n",
       "    </tr>\n",
       "    <tr>\n",
       "      <th>1195</th>\n",
       "      <td>1947021204</td>\n",
       "      <td>1614305549</td>\n",
       "      <td>2019-08-14</td>\n",
       "      <td>100</td>\n",
       "      <td>A</td>\n",
       "    </tr>\n",
       "    <tr>\n",
       "      <th>1196</th>\n",
       "      <td>3936777065</td>\n",
       "      <td>2108080724</td>\n",
       "      <td>2019-08-15</td>\n",
       "      <td>202740</td>\n",
       "      <td>B</td>\n",
       "    </tr>\n",
       "  </tbody>\n",
       "</table>\n",
       "<p>1197 rows × 5 columns</p>\n",
       "</div>"
      ],
      "text/plain": [
       "     transaction_id  visitor_id       date  revenue group\n",
       "0        3667963787  3312258926 2019-08-15     1650     B\n",
       "1        2804400009  3642806036 2019-08-15      730     B\n",
       "2        2961555356  4069496402 2019-08-15      400     A\n",
       "3        3797467345  1196621759 2019-08-15     9759     B\n",
       "4        2282983706  2322279887 2019-08-15     2308     B\n",
       "...             ...         ...        ...      ...   ...\n",
       "1192     2662137336  3733762160 2019-08-14     6490     B\n",
       "1193     2203539145   370388673 2019-08-14     3190     A\n",
       "1194     1807773912   573423106 2019-08-14    10550     A\n",
       "1195     1947021204  1614305549 2019-08-14      100     A\n",
       "1196     3936777065  2108080724 2019-08-15   202740     B\n",
       "\n",
       "[1197 rows x 5 columns]"
      ]
     },
     "execution_count": 12,
     "metadata": {},
     "output_type": "execute_result"
    }
   ],
   "source": [
    "orders"
   ]
  },
  {
   "cell_type": "markdown",
   "id": "e37f943e",
   "metadata": {},
   "source": [
    "<div style=\"border-radius: 15px; border: 3px solid black; padding: 15px;\">\n",
    "<font size=+1><b> 2.5. Поиск аномальных значений. </b></font>\n",
    "\n",
    "На данном этапе предобработки данных поиск аномальных значений проводиться не будет: это будет отдельным пунктом анализа результатов А/В теста.\n",
    "</div>"
   ]
  },
  {
   "cell_type": "markdown",
   "id": "b733ad0f",
   "metadata": {},
   "source": [
    "<div style=\"border-radius: 15px; border: 3px solid black; padding: 15px;\">\n",
    "<font size=+2><b> 3. АНАЛИЗ A/B-ТЕСТА. </b></font>\n",
    "\n",
    "<font size=+1><b> 3.1. Создание датафреймов для анализа в т.ч. с кумулятивными метриками. </b></font>\n",
    "\n",
    "Отметим отдельно что относительная разница между размерами групп А и В теста менее 1%. Сделаем допущение, что это приемлемо для нашего случая, где, очевидно, предполагалось разделение 50/50.\n",
    "    \n",
    "Однако, очень важно то, что пользователи могли совершать покупки в разных группах теста. Причём, судя по сводной таблице, смены групп теста могли происходить и не один раз. Этот факт говорит о несовершенстве деления на группы и должен быть доработан в других А/В тестах продукта, если таковые будут проводиться. В нашем дальнейшем анализе не будем изменять состав выборок, так неизвестны причины попадания пользователей в две группы: логи посещений (а не только покупок) недоступны, запросить новые данных в рамках учебного проекта нельзя.\n",
    "</div>"
   ]
  },
  {
   "cell_type": "code",
   "execution_count": 13,
   "id": "85c6b352",
   "metadata": {},
   "outputs": [
    {
     "name": "stdout",
     "output_type": "stream",
     "text": [
      "Количество уникальных покупателей: 1031 \n",
      "\n",
      "Количество пользователей, делавших покупки в обеих группах: 58 \n",
      "\n",
      "Варианты посещений групп теста уникальными пользователями:\n"
     ]
    },
    {
     "data": {
      "text/plain": [
       "group\n",
       "B              510\n",
       "A              427\n",
       "BA              18\n",
       "AB              17\n",
       "BB              16\n",
       "AA              13\n",
       "AAA              5\n",
       "BAA              3\n",
       "ABB              3\n",
       "BBB              2\n",
       "BBA              2\n",
       "BBBAB            1\n",
       "BBBA             1\n",
       "BBABB            1\n",
       "BBAB             1\n",
       "BBAAAABBB        1\n",
       "AABA             1\n",
       "BAB              1\n",
       "BAAAA            1\n",
       "AABAA            1\n",
       "ABBBAABBAAB      1\n",
       "ABBAA            1\n",
       "ABABABAAAAB      1\n",
       "ABABAAAB         1\n",
       "ABA              1\n",
       "BBBBA            1\n",
       "dtype: int64"
      ]
     },
     "execution_count": 13,
     "metadata": {},
     "output_type": "execute_result"
    }
   ],
   "source": [
    "print('Количество уникальных покупателей:', orders['visitor_id'].nunique(), '\\n')\n",
    "\n",
    "print('Количество пользователей, делавших покупки в обеих группах:', orders.query('group == \"B\"')['visitor_id'].nunique() \n",
    "      + orders.query('group == \"A\"')['visitor_id'].nunique() - orders['visitor_id'].nunique(), '\\n')\n",
    "\n",
    "print('Варианты посещений групп теста уникальными пользователями:')\n",
    "orders.sort_values(by='date').groupby('visitor_id', as_index=False).agg({'group': 'sum'}).value_counts('group')"
   ]
  },
  {
   "cell_type": "code",
   "execution_count": 14,
   "id": "236b0211",
   "metadata": {},
   "outputs": [
    {
     "name": "stdout",
     "output_type": "stream",
     "text": [
      "Количество посещений в группе А: 18736 \n",
      "\n",
      "Количество посещений в группе B: 18916 \n",
      "\n",
      "Относительная разница в группах теста: 0.96 %\n"
     ]
    }
   ],
   "source": [
    "size_a = visitors.query('group == \"A\"')['visitors'].sum()\n",
    "size_b = visitors.query('group == \"B\"')['visitors'].sum()\n",
    "\n",
    "print('Количество посещений в группе А:', size_a, '\\n')\n",
    "print('Количество посещений в группе B:', size_b, '\\n')\n",
    "print('Относительная разница в группах теста:', \"{0:.2f}\".format((size_b/size_a-1)*100), '%')"
   ]
  },
  {
   "cell_type": "code",
   "execution_count": 15,
   "id": "bfb3d495",
   "metadata": {
    "scrolled": false
   },
   "outputs": [
    {
     "data": {
      "text/html": [
       "<div>\n",
       "<style scoped>\n",
       "    .dataframe tbody tr th:only-of-type {\n",
       "        vertical-align: middle;\n",
       "    }\n",
       "\n",
       "    .dataframe tbody tr th {\n",
       "        vertical-align: top;\n",
       "    }\n",
       "\n",
       "    .dataframe thead th {\n",
       "        text-align: right;\n",
       "    }\n",
       "</style>\n",
       "<table border=\"1\" class=\"dataframe\">\n",
       "  <thead>\n",
       "    <tr style=\"text-align: right;\">\n",
       "      <th></th>\n",
       "      <th>date</th>\n",
       "      <th>group</th>\n",
       "      <th>orders</th>\n",
       "      <th>payers</th>\n",
       "      <th>revenue</th>\n",
       "      <th>visitors</th>\n",
       "    </tr>\n",
       "  </thead>\n",
       "  <tbody>\n",
       "    <tr>\n",
       "      <th>0</th>\n",
       "      <td>2019-08-01</td>\n",
       "      <td>A</td>\n",
       "      <td>24</td>\n",
       "      <td>20</td>\n",
       "      <td>148579</td>\n",
       "      <td>719</td>\n",
       "    </tr>\n",
       "    <tr>\n",
       "      <th>1</th>\n",
       "      <td>2019-08-01</td>\n",
       "      <td>B</td>\n",
       "      <td>21</td>\n",
       "      <td>20</td>\n",
       "      <td>101217</td>\n",
       "      <td>713</td>\n",
       "    </tr>\n",
       "    <tr>\n",
       "      <th>2</th>\n",
       "      <td>2019-08-02</td>\n",
       "      <td>A</td>\n",
       "      <td>20</td>\n",
       "      <td>19</td>\n",
       "      <td>93822</td>\n",
       "      <td>619</td>\n",
       "    </tr>\n",
       "    <tr>\n",
       "      <th>3</th>\n",
       "      <td>2019-08-02</td>\n",
       "      <td>B</td>\n",
       "      <td>24</td>\n",
       "      <td>23</td>\n",
       "      <td>165531</td>\n",
       "      <td>581</td>\n",
       "    </tr>\n",
       "    <tr>\n",
       "      <th>4</th>\n",
       "      <td>2019-08-03</td>\n",
       "      <td>A</td>\n",
       "      <td>24</td>\n",
       "      <td>24</td>\n",
       "      <td>112473</td>\n",
       "      <td>507</td>\n",
       "    </tr>\n",
       "    <tr>\n",
       "      <th>5</th>\n",
       "      <td>2019-08-03</td>\n",
       "      <td>B</td>\n",
       "      <td>16</td>\n",
       "      <td>16</td>\n",
       "      <td>114248</td>\n",
       "      <td>509</td>\n",
       "    </tr>\n",
       "  </tbody>\n",
       "</table>\n",
       "</div>"
      ],
      "text/plain": [
       "        date group  orders  payers  revenue  visitors\n",
       "0 2019-08-01     A      24      20   148579       719\n",
       "1 2019-08-01     B      21      20   101217       713\n",
       "2 2019-08-02     A      20      19    93822       619\n",
       "3 2019-08-02     B      24      23   165531       581\n",
       "4 2019-08-03     A      24      24   112473       507\n",
       "5 2019-08-03     B      16      16   114248       509"
      ]
     },
     "metadata": {},
     "output_type": "display_data"
    },
    {
     "data": {
      "text/html": [
       "<div>\n",
       "<style scoped>\n",
       "    .dataframe tbody tr th:only-of-type {\n",
       "        vertical-align: middle;\n",
       "    }\n",
       "\n",
       "    .dataframe tbody tr th {\n",
       "        vertical-align: top;\n",
       "    }\n",
       "\n",
       "    .dataframe thead th {\n",
       "        text-align: right;\n",
       "    }\n",
       "</style>\n",
       "<table border=\"1\" class=\"dataframe\">\n",
       "  <thead>\n",
       "    <tr style=\"text-align: right;\">\n",
       "      <th></th>\n",
       "      <th>date</th>\n",
       "      <th>group</th>\n",
       "      <th>orders</th>\n",
       "      <th>payers</th>\n",
       "      <th>revenue</th>\n",
       "      <th>visitors</th>\n",
       "      <th>avg_cheque</th>\n",
       "      <th>conversion</th>\n",
       "    </tr>\n",
       "  </thead>\n",
       "  <tbody>\n",
       "    <tr>\n",
       "      <th>52</th>\n",
       "      <td>2019-08-27</td>\n",
       "      <td>A</td>\n",
       "      <td>495</td>\n",
       "      <td>482</td>\n",
       "      <td>3514698</td>\n",
       "      <td>16376</td>\n",
       "      <td>7100.40</td>\n",
       "      <td>0.0294</td>\n",
       "    </tr>\n",
       "    <tr>\n",
       "      <th>54</th>\n",
       "      <td>2019-08-28</td>\n",
       "      <td>A</td>\n",
       "      <td>512</td>\n",
       "      <td>499</td>\n",
       "      <td>3615820</td>\n",
       "      <td>16970</td>\n",
       "      <td>7062.15</td>\n",
       "      <td>0.0294</td>\n",
       "    </tr>\n",
       "    <tr>\n",
       "      <th>56</th>\n",
       "      <td>2019-08-29</td>\n",
       "      <td>A</td>\n",
       "      <td>534</td>\n",
       "      <td>521</td>\n",
       "      <td>3936510</td>\n",
       "      <td>17547</td>\n",
       "      <td>7371.74</td>\n",
       "      <td>0.0297</td>\n",
       "    </tr>\n",
       "    <tr>\n",
       "      <th>58</th>\n",
       "      <td>2019-08-30</td>\n",
       "      <td>A</td>\n",
       "      <td>545</td>\n",
       "      <td>531</td>\n",
       "      <td>4022970</td>\n",
       "      <td>18037</td>\n",
       "      <td>7381.60</td>\n",
       "      <td>0.0294</td>\n",
       "    </tr>\n",
       "    <tr>\n",
       "      <th>60</th>\n",
       "      <td>2019-08-31</td>\n",
       "      <td>A</td>\n",
       "      <td>557</td>\n",
       "      <td>543</td>\n",
       "      <td>4084803</td>\n",
       "      <td>18736</td>\n",
       "      <td>7333.58</td>\n",
       "      <td>0.0290</td>\n",
       "    </tr>\n",
       "  </tbody>\n",
       "</table>\n",
       "</div>"
      ],
      "text/plain": [
       "         date group  orders  payers  revenue  visitors  avg_cheque  conversion\n",
       "52 2019-08-27     A     495     482  3514698     16376     7100.40      0.0294\n",
       "54 2019-08-28     A     512     499  3615820     16970     7062.15      0.0294\n",
       "56 2019-08-29     A     534     521  3936510     17547     7371.74      0.0297\n",
       "58 2019-08-30     A     545     531  4022970     18037     7381.60      0.0294\n",
       "60 2019-08-31     A     557     543  4084803     18736     7333.58      0.0290"
      ]
     },
     "metadata": {},
     "output_type": "display_data"
    },
    {
     "data": {
      "text/html": [
       "<div>\n",
       "<style scoped>\n",
       "    .dataframe tbody tr th:only-of-type {\n",
       "        vertical-align: middle;\n",
       "    }\n",
       "\n",
       "    .dataframe tbody tr th {\n",
       "        vertical-align: top;\n",
       "    }\n",
       "\n",
       "    .dataframe thead th {\n",
       "        text-align: right;\n",
       "    }\n",
       "</style>\n",
       "<table border=\"1\" class=\"dataframe\">\n",
       "  <thead>\n",
       "    <tr style=\"text-align: right;\">\n",
       "      <th></th>\n",
       "      <th>date</th>\n",
       "      <th>group</th>\n",
       "      <th>orders</th>\n",
       "      <th>payers</th>\n",
       "      <th>revenue</th>\n",
       "      <th>visitors</th>\n",
       "      <th>avg_cheque</th>\n",
       "      <th>conversion</th>\n",
       "    </tr>\n",
       "  </thead>\n",
       "  <tbody>\n",
       "    <tr>\n",
       "      <th>53</th>\n",
       "      <td>2019-08-27</td>\n",
       "      <td>B</td>\n",
       "      <td>548</td>\n",
       "      <td>537</td>\n",
       "      <td>5232260</td>\n",
       "      <td>16523</td>\n",
       "      <td>9547.92</td>\n",
       "      <td>0.0325</td>\n",
       "    </tr>\n",
       "    <tr>\n",
       "      <th>55</th>\n",
       "      <td>2019-08-28</td>\n",
       "      <td>B</td>\n",
       "      <td>576</td>\n",
       "      <td>564</td>\n",
       "      <td>5328268</td>\n",
       "      <td>17177</td>\n",
       "      <td>9250.47</td>\n",
       "      <td>0.0328</td>\n",
       "    </tr>\n",
       "    <tr>\n",
       "      <th>57</th>\n",
       "      <td>2019-08-29</td>\n",
       "      <td>B</td>\n",
       "      <td>596</td>\n",
       "      <td>584</td>\n",
       "      <td>5559398</td>\n",
       "      <td>17708</td>\n",
       "      <td>9327.85</td>\n",
       "      <td>0.0330</td>\n",
       "    </tr>\n",
       "    <tr>\n",
       "      <th>59</th>\n",
       "      <td>2019-08-30</td>\n",
       "      <td>B</td>\n",
       "      <td>620</td>\n",
       "      <td>608</td>\n",
       "      <td>5774631</td>\n",
       "      <td>18198</td>\n",
       "      <td>9313.92</td>\n",
       "      <td>0.0334</td>\n",
       "    </tr>\n",
       "    <tr>\n",
       "      <th>61</th>\n",
       "      <td>2019-08-31</td>\n",
       "      <td>B</td>\n",
       "      <td>640</td>\n",
       "      <td>628</td>\n",
       "      <td>5907760</td>\n",
       "      <td>18916</td>\n",
       "      <td>9230.88</td>\n",
       "      <td>0.0332</td>\n",
       "    </tr>\n",
       "  </tbody>\n",
       "</table>\n",
       "</div>"
      ],
      "text/plain": [
       "         date group  orders  payers  revenue  visitors  avg_cheque  conversion\n",
       "53 2019-08-27     B     548     537  5232260     16523     9547.92      0.0325\n",
       "55 2019-08-28     B     576     564  5328268     17177     9250.47      0.0328\n",
       "57 2019-08-29     B     596     584  5559398     17708     9327.85      0.0330\n",
       "59 2019-08-30     B     620     608  5774631     18198     9313.92      0.0334\n",
       "61 2019-08-31     B     640     628  5907760     18916     9230.88      0.0332"
      ]
     },
     "execution_count": 15,
     "metadata": {},
     "output_type": "execute_result"
    }
   ],
   "source": [
    "df = orders.groupby(['date', 'group'], as_index=False).agg({'transaction_id': 'count', 'visitor_id': 'nunique', \n",
    "                                                            'revenue': 'sum'})\n",
    "df = df.rename(columns={'transaction_id': 'orders', 'visitor_id': 'payers'})\n",
    "\n",
    "\n",
    "df = df.merge(visitors, how='inner', on=['date', 'group'])\n",
    "\n",
    "cumulative_a = df.query('group == \"A\"').copy()\n",
    "cumulative_b = df.query('group == \"B\"').copy()\n",
    "\n",
    "for data in [cumulative_a, cumulative_b]:\n",
    "    data[['orders', 'payers', 'revenue', 'visitors']] = data[['orders', 'payers', 'revenue', 'visitors']].cumsum()\n",
    "    data['avg_cheque'] = (data['revenue'] / data['orders']).map(lambda x: \"{0:.2f}\".format(x)).astype('float')\n",
    "    data['conversion'] = (data['payers'] / data['visitors']).map(lambda x: \"{0:.4f}\".format(x)).astype('float')\n",
    "\n",
    "display(df.head(6))\n",
    "display(cumulative_a.tail())\n",
    "cumulative_b.tail()"
   ]
  },
  {
   "cell_type": "markdown",
   "id": "8f15afb6",
   "metadata": {},
   "source": [
    "<div style=\"border-radius: 15px; border: 3px solid black; padding: 15px;\">\n",
    "<font size=+1><b> 3.2. Анализ графиков выручки, среднего чека. </b></font>\n",
    "\n",
    "Выводы по трём графикам:\n",
    "\n",
    "- Кумулятивная выручка в двух группах была на одном уровне по 5-е августа; была несколько больше в группе B с 6-го по 18-е августа; стала значительно больше после 19 августа.\n",
    "- Средний чек большую часть периода до 18 августа был больше в группе В, но со значительными флуктуациями; с 19-го августа он стал заметно больше в группе В.\n",
    "- К концу августа относительная разница между средними чеками падала -  примерно до 27%.\n",
    "\n",
    "Графики кумулятивной выручки и среднего чека позволяют нам выдвинуть гипотезу теста о том, что средний чек в группе B больше нежели в группе А. Однако значительный скачок в раойоне 19 августа выглядит странным и требует дополнительного внимания.\n",
    "</div>"
   ]
  },
  {
   "cell_type": "code",
   "execution_count": 16,
   "id": "61a5a054",
   "metadata": {
    "scrolled": false
   },
   "outputs": [
    {
     "data": {
      "image/png": "[encoded data removed]",
      "text/plain": [
       "<Figure size 1296x504 with 1 Axes>"
      ]
     },
     "metadata": {
      "needs_background": "light"
     },
     "output_type": "display_data"
    }
   ],
   "source": [
    "plt.figure(figsize=(18, 7))\n",
    "plt.plot(cumulative_a['date'], cumulative_a['revenue'], label='A')\n",
    "plt.plot(cumulative_b['date'], cumulative_b['revenue'], label='B')\n",
    "plt.legend()\n",
    "plt.ylabel('млн. рублей', fontsize=16)\n",
    "plt.title('Абсолютная кумулятивная выручка групп теста по дням', fontsize=16)\n",
    "plt.show()"
   ]
  },
  {
   "cell_type": "code",
   "execution_count": 17,
   "id": "354027da",
   "metadata": {
    "scrolled": false
   },
   "outputs": [
    {
     "data": {
      "image/png": "[encoded data removed]",
      "text/plain": [
       "<Figure size 1296x504 with 1 Axes>"
      ]
     },
     "metadata": {
      "needs_background": "light"
     },
     "output_type": "display_data"
    }
   ],
   "source": [
    "plt.figure(figsize=(18, 7))\n",
    "plt.plot(cumulative_a['date'], cumulative_a['avg_cheque'], label='A')\n",
    "plt.plot(cumulative_b['date'], cumulative_b['avg_cheque'], label='B')\n",
    "plt.legend()\n",
    "plt.title('Кумулятивный средний чек в  группах теста по дням', fontsize=16)\n",
    "plt.show()"
   ]
  },
  {
   "cell_type": "code",
   "execution_count": 18,
   "id": "f9180f82",
   "metadata": {
    "scrolled": false
   },
   "outputs": [
    {
     "data": {
      "image/png": "[encoded data removed]",
      "text/plain": [
       "<Figure size 1296x504 with 1 Axes>"
      ]
     },
     "metadata": {
      "needs_background": "light"
     },
     "output_type": "display_data"
    }
   ],
   "source": [
    "cumulative_merged = cumulative_a.merge(cumulative_b, on='date', suffixes=['_a', '_b'])\n",
    "\n",
    "plt.figure(figsize=(18, 7))\n",
    "plt.plot(cumulative_merged['date'], cumulative_merged['avg_cheque_b']/cumulative_merged['avg_cheque_a']-1)\n",
    "plt.axhline(y=0, color='black', linestyle='--')\n",
    "plt.axhline(y=0.27, color='red', linestyle='--')\n",
    "plt.title('Относительное изменение кумулятивного средного чека по дням', fontsize=16)\n",
    "plt.show()"
   ]
  },
  {
   "cell_type": "markdown",
   "id": "2d4d5765",
   "metadata": {},
   "source": [
    "<div style=\"border-radius: 15px; border: 3px solid black; padding: 15px;\">\n",
    "<font size=+1><b> 3.3. Анализ графиков конверсии. </b></font>\n",
    "\n",
    "Выводы по графикам конверсии:\n",
    "\n",
    "- Большую часть августа конверсия в группе В выше чем в группе А.\n",
    "- С 10 августа эта разница является значительной и остаётся таковой до конца месяца, хоть и несколько снижается.\n",
    "\n",
    "По данным этих графиков можем выдвинуть вторую гипотезу теста о том, что конверсия в группе В выше чем в группе А. Эта разница в конверсии могла бы объяснить соотвествующую разницу и в кумулятивной выручке. Однако на графиках конверсий нет \"всплесков\" в районе 19-го августа, что ещё раз говорит нам о необходимости изучить выбросы в данных. Из-за подобных выбросов описанные выше гипотеза о разнице в средних чеках может не подтвердиться.\n",
    "</div>"
   ]
  },
  {
   "cell_type": "code",
   "execution_count": 19,
   "id": "e336b95f",
   "metadata": {},
   "outputs": [
    {
     "data": {
      "image/png": "[encoded data removed]",
      "text/plain": [
       "<Figure size 1296x504 with 1 Axes>"
      ]
     },
     "metadata": {
      "needs_background": "light"
     },
     "output_type": "display_data"
    }
   ],
   "source": [
    "plt.figure(figsize=(18, 7))\n",
    "plt.plot(cumulative_a['date'], cumulative_a['conversion'], label='A')\n",
    "plt.plot(cumulative_b['date'], cumulative_b['conversion'], label='B')\n",
    "plt.legend()\n",
    "plt.title('Кумулятивная конверсия в  группах теста по дням', fontsize=16)\n",
    "plt.show()"
   ]
  },
  {
   "cell_type": "code",
   "execution_count": 20,
   "id": "d689d92a",
   "metadata": {
    "scrolled": false
   },
   "outputs": [
    {
     "data": {
      "image/png": "[encoded data removed]",
      "text/plain": [
       "<Figure size 1296x504 with 1 Axes>"
      ]
     },
     "metadata": {
      "needs_background": "light"
     },
     "output_type": "display_data"
    }
   ],
   "source": [
    "plt.figure(figsize=(18, 7))\n",
    "plt.plot(cumulative_merged['date'], cumulative_merged['conversion_b']/cumulative_merged['conversion_a']-1)\n",
    "plt.axhline(y=0, color='black', linestyle='--')\n",
    "plt.title('Относительное изменение кумулятивной конверсия по дням', fontsize=16)\n",
    "plt.show()"
   ]
  },
  {
   "cell_type": "markdown",
   "id": "a89dc765",
   "metadata": {},
   "source": [
    "<div style=\"border-radius: 15px; border: 3px solid black; padding: 15px;\">\n",
    "<font size=+1><b> 3.4. Поиск аномальных данных. </b></font>\n",
    "\n",
    "На диаграмме рассеяния видно, что существуют некоторое количество пользователей с большим количеством заказов. Основываясь на визуальных данных, я бы указал на количество 8 как нижнюю границу данных пользователей. Однако, даже 99-й перцентиль равен 4. Поэтому для точности данных по анализу конверсии я всё же возьму именно 4 как границу разделения пользователей.\n",
    "</div>"
   ]
  },
  {
   "cell_type": "code",
   "execution_count": 21,
   "id": "85802dc1",
   "metadata": {},
   "outputs": [
    {
     "name": "stdout",
     "output_type": "stream",
     "text": [
      "Всего покупателей: 1031\n"
     ]
    },
    {
     "data": {
      "image/png": "[encoded data removed]",
      "text/plain": [
       "<Figure size 720x360 with 1 Axes>"
      ]
     },
     "metadata": {
      "needs_background": "light"
     },
     "output_type": "display_data"
    }
   ],
   "source": [
    "avg_orders = orders.groupby('visitor_id', as_index=False).agg({'transaction_id': 'nunique'})\n",
    "\n",
    "avg_orders.columns=('visitor_id', 'number_of_orders')\n",
    "\n",
    "print('Всего покупателей:', avg_orders.shape[0])\n",
    "\n",
    "plt.figure(figsize=(10, 5))\n",
    "x_numbers = pd.Series(range(0,len(avg_orders['number_of_orders'])))\n",
    "plt.scatter(x_numbers, avg_orders['number_of_orders'])\n",
    "plt.title('Диаграмма рассеяния количества заказов на человека', fontsize=16)\n",
    "plt.show()"
   ]
  },
  {
   "cell_type": "code",
   "execution_count": 22,
   "id": "3ef08ae2",
   "metadata": {},
   "outputs": [
    {
     "name": "stdout",
     "output_type": "stream",
     "text": [
      "95/99-е перцентили для количества заказов на человека: [2. 4.]\n"
     ]
    },
    {
     "data": {
      "text/html": [
       "<div>\n",
       "<style scoped>\n",
       "    .dataframe tbody tr th:only-of-type {\n",
       "        vertical-align: middle;\n",
       "    }\n",
       "\n",
       "    .dataframe tbody tr th {\n",
       "        vertical-align: top;\n",
       "    }\n",
       "\n",
       "    .dataframe thead th {\n",
       "        text-align: right;\n",
       "    }\n",
       "</style>\n",
       "<table border=\"1\" class=\"dataframe\">\n",
       "  <thead>\n",
       "    <tr style=\"text-align: right;\">\n",
       "      <th></th>\n",
       "      <th>visitor_id</th>\n",
       "      <th>number_of_orders</th>\n",
       "    </tr>\n",
       "  </thead>\n",
       "  <tbody>\n",
       "    <tr>\n",
       "      <th>1023</th>\n",
       "      <td>4256040402</td>\n",
       "      <td>11</td>\n",
       "    </tr>\n",
       "    <tr>\n",
       "      <th>591</th>\n",
       "      <td>2458001652</td>\n",
       "      <td>11</td>\n",
       "    </tr>\n",
       "    <tr>\n",
       "      <th>569</th>\n",
       "      <td>2378935119</td>\n",
       "      <td>9</td>\n",
       "    </tr>\n",
       "    <tr>\n",
       "      <th>487</th>\n",
       "      <td>2038680547</td>\n",
       "      <td>8</td>\n",
       "    </tr>\n",
       "    <tr>\n",
       "      <th>44</th>\n",
       "      <td>199603092</td>\n",
       "      <td>5</td>\n",
       "    </tr>\n",
       "    <tr>\n",
       "      <th>744</th>\n",
       "      <td>3062433592</td>\n",
       "      <td>5</td>\n",
       "    </tr>\n",
       "    <tr>\n",
       "      <th>55</th>\n",
       "      <td>237748145</td>\n",
       "      <td>5</td>\n",
       "    </tr>\n",
       "    <tr>\n",
       "      <th>917</th>\n",
       "      <td>3803269165</td>\n",
       "      <td>5</td>\n",
       "    </tr>\n",
       "    <tr>\n",
       "      <th>299</th>\n",
       "      <td>1230306981</td>\n",
       "      <td>5</td>\n",
       "    </tr>\n",
       "    <tr>\n",
       "      <th>897</th>\n",
       "      <td>3717692402</td>\n",
       "      <td>5</td>\n",
       "    </tr>\n",
       "    <tr>\n",
       "      <th>393</th>\n",
       "      <td>1614305549</td>\n",
       "      <td>4</td>\n",
       "    </tr>\n",
       "    <tr>\n",
       "      <th>114</th>\n",
       "      <td>457167155</td>\n",
       "      <td>4</td>\n",
       "    </tr>\n",
       "    <tr>\n",
       "      <th>619</th>\n",
       "      <td>2587333274</td>\n",
       "      <td>4</td>\n",
       "    </tr>\n",
       "    <tr>\n",
       "      <th>340</th>\n",
       "      <td>1404934699</td>\n",
       "      <td>3</td>\n",
       "    </tr>\n",
       "    <tr>\n",
       "      <th>937</th>\n",
       "      <td>3908431265</td>\n",
       "      <td>3</td>\n",
       "    </tr>\n",
       "    <tr>\n",
       "      <th>726</th>\n",
       "      <td>2988190573</td>\n",
       "      <td>3</td>\n",
       "    </tr>\n",
       "    <tr>\n",
       "      <th>97</th>\n",
       "      <td>393266494</td>\n",
       "      <td>3</td>\n",
       "    </tr>\n",
       "    <tr>\n",
       "      <th>491</th>\n",
       "      <td>2044997962</td>\n",
       "      <td>3</td>\n",
       "    </tr>\n",
       "    <tr>\n",
       "      <th>677</th>\n",
       "      <td>2780786433</td>\n",
       "      <td>3</td>\n",
       "    </tr>\n",
       "    <tr>\n",
       "      <th>932</th>\n",
       "      <td>3891541246</td>\n",
       "      <td>3</td>\n",
       "    </tr>\n",
       "  </tbody>\n",
       "</table>\n",
       "</div>"
      ],
      "text/plain": [
       "      visitor_id  number_of_orders\n",
       "1023  4256040402                11\n",
       "591   2458001652                11\n",
       "569   2378935119                 9\n",
       "487   2038680547                 8\n",
       "44     199603092                 5\n",
       "744   3062433592                 5\n",
       "55     237748145                 5\n",
       "917   3803269165                 5\n",
       "299   1230306981                 5\n",
       "897   3717692402                 5\n",
       "393   1614305549                 4\n",
       "114    457167155                 4\n",
       "619   2587333274                 4\n",
       "340   1404934699                 3\n",
       "937   3908431265                 3\n",
       "726   2988190573                 3\n",
       "97     393266494                 3\n",
       "491   2044997962                 3\n",
       "677   2780786433                 3\n",
       "932   3891541246                 3"
      ]
     },
     "metadata": {},
     "output_type": "display_data"
    }
   ],
   "source": [
    "print('95/99-е перцентили для количества заказов на человека:', np.percentile(avg_orders['number_of_orders'], [95, 99])) \n",
    "\n",
    "display(avg_orders.sort_values(by='number_of_orders', ascending=False).head(20))\n",
    "\n",
    "order_limit = (np.percentile(avg_orders['number_of_orders'], [99]))[0]"
   ]
  },
  {
   "cell_type": "markdown",
   "id": "51c6c83d",
   "metadata": {},
   "source": [
    "<div style=\"border-radius: 15px; border: 3px solid black; padding: 15px;\">\n",
    "<font size=+1><b> 3.4. Поиск аномальных данных (продолжение). </b></font>\n",
    "\n",
    "По диаграмме рассеяния можно отметить, что есть два аномально больших заказа. Если построить ещё одну диаграмму рассеяния по срезу их стоимости, то видно, что распределение оставшихся заказов выглядит более приемлемо для анализа. Однако опять же для точности анализа (но уже среднего чека) возьмём формальную границу, равную 99-му перцентилю.\n",
    "\n",
    "В итоге, границы для определения \"нормальных\" пользователей и чеков оставим следующими: количество заказов <= 4 и сумма заказов <= 58233.2.\n",
    "</div>"
   ]
  },
  {
   "cell_type": "code",
   "execution_count": 23,
   "id": "bf380d4c",
   "metadata": {},
   "outputs": [
    {
     "data": {
      "image/png": "[encoded data removed]",
      "text/plain": [
       "<Figure size 720x360 with 1 Axes>"
      ]
     },
     "metadata": {
      "needs_background": "light"
     },
     "output_type": "display_data"
    }
   ],
   "source": [
    "plt.figure(figsize=(10, 5))\n",
    "x_orders = pd.Series(range(0,len(orders['revenue'])))\n",
    "plt.scatter(x_orders, orders['revenue'])\n",
    "plt.title('Диаграмма рассеяния стоимости заказов', fontsize=16)\n",
    "plt.ylabel('Стоимость заказа (млн рублей)', fontsize=16)\n",
    "plt.show()"
   ]
  },
  {
   "cell_type": "code",
   "execution_count": 24,
   "id": "ad07ee5a",
   "metadata": {
    "scrolled": false
   },
   "outputs": [
    {
     "data": {
      "image/png": "[encoded data removed]",
      "text/plain": [
       "<Figure size 720x360 with 1 Axes>"
      ]
     },
     "metadata": {
      "needs_background": "light"
     },
     "output_type": "display_data"
    },
    {
     "name": "stdout",
     "output_type": "stream",
     "text": [
      "95/99-е перцентили для стоимости заказа: [28000.  58233.2]\n"
     ]
    }
   ],
   "source": [
    "rev_anomal = 200000\n",
    "\n",
    "plt.figure(figsize=(10, 5))\n",
    "x_orders2 = pd.Series(range(0,len(orders.query('revenue < @rev_anomal')['revenue'])))\n",
    "plt.scatter(x_orders2, orders.query('revenue < @rev_anomal')['revenue'])\n",
    "plt.title('Диаграмма рассеяния стоимости заказов', fontsize=16)\n",
    "plt.ylabel('Стоимость заказа (млн рублей)', fontsize=16)\n",
    "plt.show()\n",
    "\n",
    "print('95/99-е перцентили для стоимости заказа:', np.percentile(orders['revenue'], [95, 99]))\n",
    "\n",
    "rev_limit = (np.percentile(orders['revenue'], [99]))[0]"
   ]
  },
  {
   "cell_type": "markdown",
   "id": "d3038575",
   "metadata": {},
   "source": [
    "<div style=\"border-radius: 15px; border: 3px solid black; padding: 15px;\">\n",
    "<font size=+1><b> 3.5. Подсчёт значимости различий в конверсии по \"сырым\" данным. </b></font>\n",
    "\n",
    "Так как конверсия - это доля, то равенство конверсий будем проверять как равенство долей. Для этого будем использовать формулу из теории. Примем за нулевую гипотезу утверждение о равенстве долей в группе А и группе В теста. Тогда альтернативной гипотезой будет утверждение о неравенстве долей в этих группах. Также установим уровень значимости alpha, равный 0.05.\n",
    "\n",
    "Согласно нашим расчётам, есть значимая разница в конверсиях: в группе В она больше. В относительных значениях эта разница  составляет 14,48%.\n",
    "</div>"
   ]
  },
  {
   "cell_type": "code",
   "execution_count": 25,
   "id": "8ca2c6c5",
   "metadata": {},
   "outputs": [
    {
     "data": {
      "text/html": [
       "<div>\n",
       "<style scoped>\n",
       "    .dataframe tbody tr th:only-of-type {\n",
       "        vertical-align: middle;\n",
       "    }\n",
       "\n",
       "    .dataframe tbody tr th {\n",
       "        vertical-align: top;\n",
       "    }\n",
       "\n",
       "    .dataframe thead th {\n",
       "        text-align: right;\n",
       "    }\n",
       "</style>\n",
       "<table border=\"1\" class=\"dataframe\">\n",
       "  <thead>\n",
       "    <tr style=\"text-align: right;\">\n",
       "      <th></th>\n",
       "      <th>date</th>\n",
       "      <th>group_a</th>\n",
       "      <th>orders_a</th>\n",
       "      <th>payers_a</th>\n",
       "      <th>revenue_a</th>\n",
       "      <th>visitors_a</th>\n",
       "      <th>avg_cheque_a</th>\n",
       "      <th>conversion_a</th>\n",
       "      <th>group_b</th>\n",
       "      <th>orders_b</th>\n",
       "      <th>payers_b</th>\n",
       "      <th>revenue_b</th>\n",
       "      <th>visitors_b</th>\n",
       "      <th>avg_cheque_b</th>\n",
       "      <th>conversion_b</th>\n",
       "    </tr>\n",
       "  </thead>\n",
       "  <tbody>\n",
       "    <tr>\n",
       "      <th>30</th>\n",
       "      <td>2019-08-31</td>\n",
       "      <td>A</td>\n",
       "      <td>557</td>\n",
       "      <td>543</td>\n",
       "      <td>4084803</td>\n",
       "      <td>18736</td>\n",
       "      <td>7333.58</td>\n",
       "      <td>0.029</td>\n",
       "      <td>B</td>\n",
       "      <td>640</td>\n",
       "      <td>628</td>\n",
       "      <td>5907760</td>\n",
       "      <td>18916</td>\n",
       "      <td>9230.88</td>\n",
       "      <td>0.0332</td>\n",
       "    </tr>\n",
       "  </tbody>\n",
       "</table>\n",
       "</div>"
      ],
      "text/plain": [
       "         date group_a  orders_a  payers_a  revenue_a  visitors_a  \\\n",
       "30 2019-08-31       A       557       543    4084803       18736   \n",
       "\n",
       "    avg_cheque_a  conversion_a group_b  orders_b  payers_b  revenue_b  \\\n",
       "30       7333.58         0.029       B       640       628    5907760   \n",
       "\n",
       "    visitors_b  avg_cheque_b  conversion_b  \n",
       "30       18916       9230.88        0.0332  "
      ]
     },
     "execution_count": 25,
     "metadata": {},
     "output_type": "execute_result"
    }
   ],
   "source": [
    "cumulative_merged.tail(1)"
   ]
  },
  {
   "cell_type": "code",
   "execution_count": 26,
   "id": "bdba9d11",
   "metadata": {},
   "outputs": [
    {
     "name": "stdout",
     "output_type": "stream",
     "text": [
      "p-значение:  0.018905635034340396\n",
      "Отвергаем нулевую гипотезу: между долями есть значимая разница\n",
      "Относительная разница конверсий: 14.48 %\n"
     ]
    }
   ],
   "source": [
    "p_total_raw = (cumulative_merged.loc[30, 'payers_b']+cumulative_merged.loc[30, 'payers_a'])/(cumulative_merged\n",
    "                                                            .loc[30, 'visitors_a']+cumulative_merged.loc[30, 'visitors_b'])\n",
    "\n",
    "z_value_raw = (cumulative_merged.loc[30, 'conversion_b'] - \n",
    "           cumulative_merged.loc[30, 'conversion_a'])/math.sqrt(p_total_raw*(1-p_total_raw)*(1/size_a+1/size_b))\n",
    "\n",
    "distr = st.norm(0, 1)\n",
    "\n",
    "p_value_raw_conv = (1 - distr.cdf(abs(z_value_raw))) * 2\n",
    "\n",
    "print('p-значение: ', p_value_raw_conv)\n",
    "\n",
    "alpha = 0.05\n",
    "\n",
    "if p_value_raw_conv < alpha:\n",
    "    print('Отвергаем нулевую гипотезу: между долями есть значимая разница')\n",
    "else:\n",
    "    print('Не получилось отвергнуть нулевую гипотезу, нет оснований считать доли разными')\n",
    "    \n",
    "print('Относительная разница конверсий:', \n",
    "      \"{0:.2f}\".format(cumulative_merged.loc[30, 'conversion_b']*100/cumulative_merged.loc[30, 'conversion_a']-100), '%')"
   ]
  },
  {
   "cell_type": "markdown",
   "id": "77b23579",
   "metadata": {},
   "source": [
    "<div style=\"border-radius: 15px; border: 3px solid black; padding: 15px;\">\n",
    "<font size=+1><b> 3.6. Подсчёт значимости различий в конверсии по \"очищенным\" данным. </b></font>\n",
    "\n",
    "Как было описано выше, в датасете обнаружено некоторое количество пользователей с большим количеством заказов. Данные пользователи могли оказать влияние на конверсию, поэтому подготовим новый массив данных без них и пересчитываем статистику.\n",
    "\n",
    "При подсчёте статистики по \"очищенным\" данным были получены ещё более значимые различия (практически на уровне 0.01), а относительная разница конверсий выросла до 16.27%.\n",
    "</div>"
   ]
  },
  {
   "cell_type": "code",
   "execution_count": 27,
   "id": "98b7aaf0",
   "metadata": {},
   "outputs": [
    {
     "data": {
      "text/html": [
       "<div>\n",
       "<style scoped>\n",
       "    .dataframe tbody tr th:only-of-type {\n",
       "        vertical-align: middle;\n",
       "    }\n",
       "\n",
       "    .dataframe tbody tr th {\n",
       "        vertical-align: top;\n",
       "    }\n",
       "\n",
       "    .dataframe thead th {\n",
       "        text-align: right;\n",
       "    }\n",
       "</style>\n",
       "<table border=\"1\" class=\"dataframe\">\n",
       "  <thead>\n",
       "    <tr style=\"text-align: right;\">\n",
       "      <th></th>\n",
       "      <th>visitor_id</th>\n",
       "      <th>number_of_orders</th>\n",
       "    </tr>\n",
       "  </thead>\n",
       "  <tbody>\n",
       "    <tr>\n",
       "      <th>0</th>\n",
       "      <td>5114589</td>\n",
       "      <td>1</td>\n",
       "    </tr>\n",
       "    <tr>\n",
       "      <th>1</th>\n",
       "      <td>6958315</td>\n",
       "      <td>1</td>\n",
       "    </tr>\n",
       "    <tr>\n",
       "      <th>2</th>\n",
       "      <td>8300375</td>\n",
       "      <td>2</td>\n",
       "    </tr>\n",
       "    <tr>\n",
       "      <th>3</th>\n",
       "      <td>11685486</td>\n",
       "      <td>1</td>\n",
       "    </tr>\n",
       "    <tr>\n",
       "      <th>4</th>\n",
       "      <td>39475350</td>\n",
       "      <td>1</td>\n",
       "    </tr>\n",
       "    <tr>\n",
       "      <th>...</th>\n",
       "      <td>...</td>\n",
       "      <td>...</td>\n",
       "    </tr>\n",
       "    <tr>\n",
       "      <th>1026</th>\n",
       "      <td>4266935830</td>\n",
       "      <td>2</td>\n",
       "    </tr>\n",
       "    <tr>\n",
       "      <th>1027</th>\n",
       "      <td>4278982564</td>\n",
       "      <td>1</td>\n",
       "    </tr>\n",
       "    <tr>\n",
       "      <th>1028</th>\n",
       "      <td>4279090005</td>\n",
       "      <td>1</td>\n",
       "    </tr>\n",
       "    <tr>\n",
       "      <th>1029</th>\n",
       "      <td>4281247801</td>\n",
       "      <td>1</td>\n",
       "    </tr>\n",
       "    <tr>\n",
       "      <th>1030</th>\n",
       "      <td>4283872382</td>\n",
       "      <td>1</td>\n",
       "    </tr>\n",
       "  </tbody>\n",
       "</table>\n",
       "<p>1031 rows × 2 columns</p>\n",
       "</div>"
      ],
      "text/plain": [
       "      visitor_id  number_of_orders\n",
       "0        5114589                 1\n",
       "1        6958315                 1\n",
       "2        8300375                 2\n",
       "3       11685486                 1\n",
       "4       39475350                 1\n",
       "...          ...               ...\n",
       "1026  4266935830                 2\n",
       "1027  4278982564                 1\n",
       "1028  4279090005                 1\n",
       "1029  4281247801                 1\n",
       "1030  4283872382                 1\n",
       "\n",
       "[1031 rows x 2 columns]"
      ]
     },
     "execution_count": 27,
     "metadata": {},
     "output_type": "execute_result"
    }
   ],
   "source": [
    "avg_orders"
   ]
  },
  {
   "cell_type": "code",
   "execution_count": 28,
   "id": "084debad",
   "metadata": {},
   "outputs": [
    {
     "data": {
      "text/plain": [
       "[199603092,\n",
       " 237748145,\n",
       " 1230306981,\n",
       " 2038680547,\n",
       " 2378935119,\n",
       " 2458001652,\n",
       " 3062433592,\n",
       " 3717692402,\n",
       " 3803269165,\n",
       " 4256040402]"
      ]
     },
     "execution_count": 28,
     "metadata": {},
     "output_type": "execute_result"
    }
   ],
   "source": [
    "anomal_users = list(avg_orders.query('number_of_orders > @order_limit')['visitor_id'])\n",
    "anomal_users"
   ]
  },
  {
   "cell_type": "code",
   "execution_count": 29,
   "id": "3178dab4",
   "metadata": {
    "scrolled": true
   },
   "outputs": [
    {
     "data": {
      "text/html": [
       "<div>\n",
       "<style scoped>\n",
       "    .dataframe tbody tr th:only-of-type {\n",
       "        vertical-align: middle;\n",
       "    }\n",
       "\n",
       "    .dataframe tbody tr th {\n",
       "        vertical-align: top;\n",
       "    }\n",
       "\n",
       "    .dataframe thead th {\n",
       "        text-align: right;\n",
       "    }\n",
       "</style>\n",
       "<table border=\"1\" class=\"dataframe\">\n",
       "  <thead>\n",
       "    <tr style=\"text-align: right;\">\n",
       "      <th></th>\n",
       "      <th>group</th>\n",
       "      <th>visitor_id</th>\n",
       "    </tr>\n",
       "  </thead>\n",
       "  <tbody>\n",
       "    <tr>\n",
       "      <th>0</th>\n",
       "      <td>A</td>\n",
       "      <td>32</td>\n",
       "    </tr>\n",
       "    <tr>\n",
       "      <th>1</th>\n",
       "      <td>B</td>\n",
       "      <td>28</td>\n",
       "    </tr>\n",
       "  </tbody>\n",
       "</table>\n",
       "</div>"
      ],
      "text/plain": [
       "  group  visitor_id\n",
       "0     A          32\n",
       "1     B          28"
      ]
     },
     "execution_count": 29,
     "metadata": {},
     "output_type": "execute_result"
    }
   ],
   "source": [
    "df_anomal = orders.query('visitor_id in @anomal_users').groupby(['date', 'group'], \n",
    "                                                                     as_index=False).agg({'visitor_id': 'nunique'})\n",
    "\n",
    "df_anomal = df_anomal.groupby('group', as_index=False).agg({'visitor_id': 'sum'})\n",
    "\n",
    "df_anomal"
   ]
  },
  {
   "cell_type": "code",
   "execution_count": 30,
   "id": "9d0e6408",
   "metadata": {},
   "outputs": [
    {
     "data": {
      "text/html": [
       "<div>\n",
       "<style scoped>\n",
       "    .dataframe tbody tr th:only-of-type {\n",
       "        vertical-align: middle;\n",
       "    }\n",
       "\n",
       "    .dataframe tbody tr th {\n",
       "        vertical-align: top;\n",
       "    }\n",
       "\n",
       "    .dataframe thead th {\n",
       "        text-align: right;\n",
       "    }\n",
       "</style>\n",
       "<table border=\"1\" class=\"dataframe\">\n",
       "  <thead>\n",
       "    <tr style=\"text-align: right;\">\n",
       "      <th></th>\n",
       "      <th>date</th>\n",
       "      <th>group_a</th>\n",
       "      <th>orders_a</th>\n",
       "      <th>payers_a</th>\n",
       "      <th>revenue_a</th>\n",
       "      <th>visitors_a</th>\n",
       "      <th>avg_cheque_a</th>\n",
       "      <th>conversion_a</th>\n",
       "      <th>group_b</th>\n",
       "      <th>orders_b</th>\n",
       "      <th>payers_b</th>\n",
       "      <th>revenue_b</th>\n",
       "      <th>visitors_b</th>\n",
       "      <th>avg_cheque_b</th>\n",
       "      <th>conversion_b</th>\n",
       "    </tr>\n",
       "  </thead>\n",
       "  <tbody>\n",
       "    <tr>\n",
       "      <th>30</th>\n",
       "      <td>2019-08-31</td>\n",
       "      <td>A</td>\n",
       "      <td>557</td>\n",
       "      <td>543</td>\n",
       "      <td>4084803</td>\n",
       "      <td>18736</td>\n",
       "      <td>7333.58</td>\n",
       "      <td>0.029</td>\n",
       "      <td>B</td>\n",
       "      <td>640</td>\n",
       "      <td>628</td>\n",
       "      <td>5907760</td>\n",
       "      <td>18916</td>\n",
       "      <td>9230.88</td>\n",
       "      <td>0.0332</td>\n",
       "    </tr>\n",
       "  </tbody>\n",
       "</table>\n",
       "</div>"
      ],
      "text/plain": [
       "         date group_a  orders_a  payers_a  revenue_a  visitors_a  \\\n",
       "30 2019-08-31       A       557       543    4084803       18736   \n",
       "\n",
       "    avg_cheque_a  conversion_a group_b  orders_b  payers_b  revenue_b  \\\n",
       "30       7333.58         0.029       B       640       628    5907760   \n",
       "\n",
       "    visitors_b  avg_cheque_b  conversion_b  \n",
       "30       18916       9230.88        0.0332  "
      ]
     },
     "execution_count": 30,
     "metadata": {},
     "output_type": "execute_result"
    }
   ],
   "source": [
    "cumulative_merged.tail(1)"
   ]
  },
  {
   "cell_type": "code",
   "execution_count": 31,
   "id": "52434865",
   "metadata": {},
   "outputs": [
    {
     "name": "stdout",
     "output_type": "stream",
     "text": [
      "p-значение:  0.010930756017438314\n",
      "Отвергаем нулевую гипотезу: между долями есть значимая разница\n",
      "\n",
      "Относительная разница конверсий: 16.27 %\n",
      "\n",
      "Значения конверсий по отфильтрованным данным для групп А и В соотвественно: 0.0273 и 0.0318\n"
     ]
    }
   ],
   "source": [
    "size_a2 = size_a - df_anomal.loc[0, 'visitor_id']\n",
    "size_b2 = size_b - df_anomal.loc[1, 'visitor_id']\n",
    "payers_a2 = cumulative_merged.loc[30, 'payers_a'] - df_anomal.loc[0, 'visitor_id']\n",
    "payers_b2 = cumulative_merged.loc[30, 'payers_b'] - df_anomal.loc[1, 'visitor_id']\n",
    "\n",
    "p_total_filtred = (payers_a2 + payers_b2)/(size_a2 + size_b2)\n",
    "\n",
    "z_value_filtred = (payers_b2/size_b2 - payers_a2/size_a2)/math.sqrt(p_total_filtred*(1-p_total_filtred)*(1/size_a2+1/size_b2))\n",
    "\n",
    "p_value_filtred_conv = (1 - distr.cdf(abs(z_value_filtred))) * 2\n",
    "\n",
    "print('p-значение: ', p_value_filtred_conv)\n",
    "\n",
    "if p_value_filtred_conv < alpha:\n",
    "    print('Отвергаем нулевую гипотезу: между долями есть значимая разница')\n",
    "else:\n",
    "    print('Не получилось отвергнуть нулевую гипотезу, нет оснований считать доли разными')\n",
    "    \n",
    "print('\\nОтносительная разница конверсий:', \n",
    "      \"{0:.2f}\".format((payers_b2/size_b2)*100/(payers_a2/size_a2) - 100), '%\\n')\n",
    "\n",
    "print('Значения конверсий по отфильтрованным данным для групп А и В соотвественно:', round(payers_a2/size_a2, 4), \n",
    "      'и', round(payers_b2/size_b2, 4))"
   ]
  },
  {
   "cell_type": "markdown",
   "id": "fdda698d",
   "metadata": {},
   "source": [
    "<div style=\"border-radius: 15px; border: 3px solid black; padding: 15px;\">\n",
    "<font size=+1><b> 3.7. Подсчёт значимости различий по средним чекам по \"сырым\" данным. </b></font>\n",
    "\n",
    "В начале проверим, является ли распределение стоимостей покупок нормальным. Для этого воспользуемся критерием согласия Колмогорова. Нулевой гипотезой в нашем случае станет утверждение о принадлежности выборки к нормальному распределению. Альтерантивная гипотеза - выборочное распределение отлично от нормального распределения. Как видно, для уровня значимости alpha = 0.05 можно утверждать, что выборки стоимостей покупок для двух групп не принадлежать к нормальному распределению.\n",
    "    \n",
    "В таком случае для проверки равенства средних значений в этих выборках следует использовать непараметрический критерий, а именно U-критерий Манна-Уитни. Нулевая гипотеза: нет различий между уровнями стоимости заказов. Альтернативная гипотеза: есть различия между уровнями стоимости заказа. Примем уровень значимости alpha = 0.05.\n",
    "\n",
    "Для \"сырых\" данных отличий в уровне стоимости заказов нет; другими словами, нет различий в среднем чеке для А и В групп теста.\n",
    "</div>"
   ]
  },
  {
   "cell_type": "code",
   "execution_count": 32,
   "id": "27f7949a",
   "metadata": {},
   "outputs": [
    {
     "name": "stdout",
     "output_type": "stream",
     "text": [
      "P-value критерия Колмогорова для стоимости покупок в группе А: 0.0\n",
      "P-value критерия Колмогорова для стоимости покупок в группе В: 0.0\n"
     ]
    }
   ],
   "source": [
    "print('P-value критерия Колмогорова для стоимости покупок в группе А:', \n",
    "      st.kstest(list(orders.query('group == \"A\"')['revenue']), 'norm')[1])\n",
    "print('P-value критерия Колмогорова для стоимости покупок в группе В:', \n",
    "      st.kstest(list(orders.query('group == \"B\"')['revenue']), 'norm')[1])"
   ]
  },
  {
   "cell_type": "code",
   "execution_count": 33,
   "id": "8c6df0a6",
   "metadata": {},
   "outputs": [
    {
     "name": "stdout",
     "output_type": "stream",
     "text": [
      "P-value для стоимостей покупок в группах А и В теста: 0.7292909855432458\n"
     ]
    }
   ],
   "source": [
    "print('P-value для стоимостей покупок в группах А и В теста:', \n",
    "      st.mannwhitneyu(orders.query('group == \"A\"')['revenue'], orders.query('group == \"B\"')['revenue'])[1])"
   ]
  },
  {
   "cell_type": "markdown",
   "id": "92d11036",
   "metadata": {},
   "source": [
    "<div style=\"border-radius: 15px; border: 3px solid black; padding: 15px;\">\n",
    "<font size=+1><b> 3.8. Подсчёт значимости различий по средним чекам по \"очищенным\" данным. </b></font>\n",
    "\n",
    "Как было показано выше, есть смысл избавиться от выбросов в данных. Пересчитаем статистику для среза данных по стоимости с теми же гипотезами и уровнем значимости.\n",
    "\n",
    "Несмотря на то, что p-value снизился, он также значительно превышает alpha, т.е. отличий в уровне стоимости заказов нет.\n",
    "\n",
    "Отстутствие значимых различий по среднему чеку даже после фильтра аномальных значений кажется подозрительным: рассмотрим гистрограммы распределения стоимости покупок на очищенных и сырых (за исключением двух \"аномальнейших\" заказов) данных.\n",
    "</div>"
   ]
  },
  {
   "cell_type": "code",
   "execution_count": 34,
   "id": "1ee727f0",
   "metadata": {},
   "outputs": [
    {
     "name": "stdout",
     "output_type": "stream",
     "text": [
      "P-value для стоимостей покупок в \"очищенных\" группах А и В теста: 0.6208626966847455\n"
     ]
    }
   ],
   "source": [
    "print('P-value для стоимостей покупок в \"очищенных\" группах А и В теста:', \n",
    "      st.mannwhitneyu(orders.query('group == \"A\" and revenue <= @rev_limit')['revenue'], \n",
    "                      orders.query('group == \"B\" and revenue <= @rev_limit')['revenue'])[1])"
   ]
  },
  {
   "cell_type": "code",
   "execution_count": 35,
   "id": "390cdc25",
   "metadata": {
    "scrolled": true
   },
   "outputs": [
    {
     "data": {
      "image/png": "[encoded data removed]",
      "text/plain": [
       "<Figure size 1440x432 with 1 Axes>"
      ]
     },
     "metadata": {
      "needs_background": "light"
     },
     "output_type": "display_data"
    }
   ],
   "source": [
    "plt.figure(figsize=(20, 6))\n",
    "plt.hist(orders.query('group == \"A\" and revenue <= @rev_limit')['revenue'], bins=100, alpha = 0.7, color='green', label='A')\n",
    "plt.hist(orders.query('group == \"B\" and revenue <= @rev_limit')['revenue'], bins=100, alpha = 0.7, color='red', label='B')\n",
    "plt.title('Распределение стоимости зазков по группам, \"очищенные\" данные', fontsize=16)\n",
    "plt.legend()\n",
    "plt.show()"
   ]
  },
  {
   "cell_type": "code",
   "execution_count": 36,
   "id": "dbdee32f",
   "metadata": {
    "scrolled": true
   },
   "outputs": [
    {
     "data": {
      "image/png": "[encoded data removed]",
      "text/plain": [
       "<Figure size 1440x432 with 1 Axes>"
      ]
     },
     "metadata": {
      "needs_background": "light"
     },
     "output_type": "display_data"
    }
   ],
   "source": [
    "plt.figure(figsize=(20, 6))\n",
    "plt.hist(orders.query('group == \"B\" and revenue < @rev_anomal')['revenue'], bins=100, alpha = 0.7, color='blue', label='A')\n",
    "plt.hist(orders.query('group == \"A\"')['revenue'], bins=100, alpha = 0.7, color='orange', label='B')\n",
    "plt.title('Распределение стоимости зазков по группам, \"сырые\" данные', fontsize=16)\n",
    "plt.legend()\n",
    "plt.show()"
   ]
  },
  {
   "cell_type": "markdown",
   "id": "e8a682ff",
   "metadata": {},
   "source": [
    "<div style=\"border-radius: 15px; border: 3px solid black; padding: 15px;\">\n",
    "<font size=+1><b> 3.8. Подсчёт значимости различий по средним чекам по \"очищенным\" данным (продолжение). </b></font>\n",
    "\n",
    "Визуальный анализ гистрограмм распределения развеивает наши сомнения: во-первых, распределения очень похожи - прозрачность \"корзин\" позволяет увидеть, что большая их часть окрашена в \"смешанный\" цвет, то есть распределения в этих местах \"совпадают\"; во-вторых \"отличия\" распределены среди обоих групп - на обоих графиках есть участки \"чистых\" цветов. \n",
    "    \n",
    "Итак, наши выводы об отсутствии статистистических различий в среднем чеке наглядно подтвердились. Таким образом, можно утверждать, что различия же в кумулятивных графиках среднего чека, которые мы наблюдали в начале анализа, получено случайно. Более того, если пересчитать средний чек без двух \"аномальнейших\" заказов, то он и вовсе окажется больше в группе А! (опять же, эти различия незначимы) \n",
    "</div>"
   ]
  },
  {
   "cell_type": "code",
   "execution_count": 37,
   "id": "d7e20b79",
   "metadata": {},
   "outputs": [
    {
     "name": "stdout",
     "output_type": "stream",
     "text": [
      "Средние чеки по группам, \"сырые\" данные: 7334 и 9231 \n",
      "\n",
      "Средние чеки по группам, \"очищенные\" данные: 7334 и 6913\n"
     ]
    }
   ],
   "source": [
    "print('Средние чеки по группам, \"сырые\" данные:', round(orders.query('group == \"A\"')['revenue'].mean()), 'и',\n",
    "      round(orders.query('group == \"B\"')['revenue'].mean()), '\\n')\n",
    "\n",
    "print('Средние чеки по группам, \"очищенные\" данные:', round(orders.query('group == \"A\"')['revenue'].mean()), 'и',\n",
    "      round(orders.query('group == \"B\" and revenue < @rev_anomal')['revenue'].mean()))"
   ]
  },
  {
   "cell_type": "markdown",
   "id": "387db525",
   "metadata": {},
   "source": [
    "<div style=\"border-radius: 15px; border: 3px solid black; padding: 15px;\">\n",
    "<font size=+1><b> 3.9. Пересчёт кумулятивной выручки. </b></font>\n",
    "\n",
    "Для ответа на финальный вопрос, во-первых, рассмотрим перерисуем график кумулятивной выручки без двух \"аномальнейших\" заказов, во-вторых, рассмотрим среднее количество покупок на одного пользователя в двух группах.\n",
    "</div>"
   ]
  },
  {
   "cell_type": "code",
   "execution_count": 38,
   "id": "b3a43087",
   "metadata": {},
   "outputs": [
    {
     "data": {
      "text/html": [
       "<div>\n",
       "<style scoped>\n",
       "    .dataframe tbody tr th:only-of-type {\n",
       "        vertical-align: middle;\n",
       "    }\n",
       "\n",
       "    .dataframe tbody tr th {\n",
       "        vertical-align: top;\n",
       "    }\n",
       "\n",
       "    .dataframe thead th {\n",
       "        text-align: right;\n",
       "    }\n",
       "</style>\n",
       "<table border=\"1\" class=\"dataframe\">\n",
       "  <thead>\n",
       "    <tr style=\"text-align: right;\">\n",
       "      <th></th>\n",
       "      <th>transaction_id</th>\n",
       "      <th>visitor_id</th>\n",
       "      <th>date</th>\n",
       "      <th>revenue</th>\n",
       "      <th>group</th>\n",
       "    </tr>\n",
       "  </thead>\n",
       "  <tbody>\n",
       "    <tr>\n",
       "      <th>425</th>\n",
       "      <td>590470918</td>\n",
       "      <td>1920142716</td>\n",
       "      <td>2019-08-19</td>\n",
       "      <td>1294500</td>\n",
       "      <td>B</td>\n",
       "    </tr>\n",
       "    <tr>\n",
       "      <th>1196</th>\n",
       "      <td>3936777065</td>\n",
       "      <td>2108080724</td>\n",
       "      <td>2019-08-15</td>\n",
       "      <td>202740</td>\n",
       "      <td>B</td>\n",
       "    </tr>\n",
       "  </tbody>\n",
       "</table>\n",
       "</div>"
      ],
      "text/plain": [
       "     transaction_id  visitor_id       date  revenue group\n",
       "425       590470918  1920142716 2019-08-19  1294500     B\n",
       "1196     3936777065  2108080724 2019-08-15   202740     B"
      ]
     },
     "metadata": {},
     "output_type": "display_data"
    },
    {
     "data": {
      "text/html": [
       "<div>\n",
       "<style scoped>\n",
       "    .dataframe tbody tr th:only-of-type {\n",
       "        vertical-align: middle;\n",
       "    }\n",
       "\n",
       "    .dataframe tbody tr th {\n",
       "        vertical-align: top;\n",
       "    }\n",
       "\n",
       "    .dataframe thead th {\n",
       "        text-align: right;\n",
       "    }\n",
       "</style>\n",
       "<table border=\"1\" class=\"dataframe\">\n",
       "  <thead>\n",
       "    <tr style=\"text-align: right;\">\n",
       "      <th></th>\n",
       "      <th>date</th>\n",
       "      <th>group</th>\n",
       "      <th>orders</th>\n",
       "      <th>payers</th>\n",
       "      <th>revenue</th>\n",
       "      <th>visitors</th>\n",
       "    </tr>\n",
       "  </thead>\n",
       "  <tbody>\n",
       "    <tr>\n",
       "      <th>29</th>\n",
       "      <td>2019-08-15</td>\n",
       "      <td>B</td>\n",
       "      <td>31</td>\n",
       "      <td>31</td>\n",
       "      <td>342499</td>\n",
       "      <td>544</td>\n",
       "    </tr>\n",
       "    <tr>\n",
       "      <th>30</th>\n",
       "      <td>2019-08-16</td>\n",
       "      <td>A</td>\n",
       "      <td>18</td>\n",
       "      <td>18</td>\n",
       "      <td>99851</td>\n",
       "      <td>361</td>\n",
       "    </tr>\n",
       "    <tr>\n",
       "      <th>31</th>\n",
       "      <td>2019-08-16</td>\n",
       "      <td>B</td>\n",
       "      <td>20</td>\n",
       "      <td>20</td>\n",
       "      <td>171690</td>\n",
       "      <td>413</td>\n",
       "    </tr>\n",
       "    <tr>\n",
       "      <th>32</th>\n",
       "      <td>2019-08-17</td>\n",
       "      <td>A</td>\n",
       "      <td>10</td>\n",
       "      <td>9</td>\n",
       "      <td>50861</td>\n",
       "      <td>412</td>\n",
       "    </tr>\n",
       "    <tr>\n",
       "      <th>33</th>\n",
       "      <td>2019-08-17</td>\n",
       "      <td>B</td>\n",
       "      <td>14</td>\n",
       "      <td>14</td>\n",
       "      <td>81155</td>\n",
       "      <td>421</td>\n",
       "    </tr>\n",
       "    <tr>\n",
       "      <th>34</th>\n",
       "      <td>2019-08-18</td>\n",
       "      <td>A</td>\n",
       "      <td>17</td>\n",
       "      <td>17</td>\n",
       "      <td>72398</td>\n",
       "      <td>668</td>\n",
       "    </tr>\n",
       "    <tr>\n",
       "      <th>35</th>\n",
       "      <td>2019-08-18</td>\n",
       "      <td>B</td>\n",
       "      <td>9</td>\n",
       "      <td>9</td>\n",
       "      <td>65831</td>\n",
       "      <td>737</td>\n",
       "    </tr>\n",
       "    <tr>\n",
       "      <th>36</th>\n",
       "      <td>2019-08-19</td>\n",
       "      <td>A</td>\n",
       "      <td>22</td>\n",
       "      <td>22</td>\n",
       "      <td>189743</td>\n",
       "      <td>502</td>\n",
       "    </tr>\n",
       "    <tr>\n",
       "      <th>37</th>\n",
       "      <td>2019-08-19</td>\n",
       "      <td>B</td>\n",
       "      <td>21</td>\n",
       "      <td>20</td>\n",
       "      <td>1429920</td>\n",
       "      <td>487</td>\n",
       "    </tr>\n",
       "  </tbody>\n",
       "</table>\n",
       "</div>"
      ],
      "text/plain": [
       "         date group  orders  payers  revenue  visitors\n",
       "29 2019-08-15     B      31      31   342499       544\n",
       "30 2019-08-16     A      18      18    99851       361\n",
       "31 2019-08-16     B      20      20   171690       413\n",
       "32 2019-08-17     A      10       9    50861       412\n",
       "33 2019-08-17     B      14      14    81155       421\n",
       "34 2019-08-18     A      17      17    72398       668\n",
       "35 2019-08-18     B       9       9    65831       737\n",
       "36 2019-08-19     A      22      22   189743       502\n",
       "37 2019-08-19     B      21      20  1429920       487"
      ]
     },
     "execution_count": 38,
     "metadata": {},
     "output_type": "execute_result"
    }
   ],
   "source": [
    "display(orders.query('group == \"B\" and revenue > @rev_anomal'))\n",
    "\n",
    "df.loc[29:37]"
   ]
  },
  {
   "cell_type": "code",
   "execution_count": 39,
   "id": "61cfae1f",
   "metadata": {},
   "outputs": [],
   "source": [
    "df_filtred = df.copy()\n",
    "df_filtred.loc[29, 'revenue'] -= 202740\n",
    "df_filtred.loc[37, 'revenue'] -= 1294500\n",
    "\n",
    "cumulative_a_filtred = df_filtred.query('group == \"A\"').copy()\n",
    "cumulative_b_filtred = df_filtred.query('group == \"B\"').copy()\n",
    "\n",
    "for data in [cumulative_a_filtred, cumulative_b_filtred]:\n",
    "    data[['orders', 'payers', 'revenue', 'visitors']] = data[['orders', 'payers', 'revenue', 'visitors']].cumsum()\n",
    "    data['avg_cheque'] = (data['revenue'] / data['orders']).map(lambda x: \"{0:.2f}\".format(x)).astype('float')\n",
    "    data['conversion'] = (data['payers'] / data['visitors']).map(lambda x: \"{0:.4f}\".format(x)).astype('float')"
   ]
  },
  {
   "cell_type": "code",
   "execution_count": 40,
   "id": "37057a2f",
   "metadata": {
    "scrolled": false
   },
   "outputs": [
    {
     "data": {
      "image/png": "[encoded data removed]",
      "text/plain": [
       "<Figure size 1296x504 with 1 Axes>"
      ]
     },
     "metadata": {
      "needs_background": "light"
     },
     "output_type": "display_data"
    }
   ],
   "source": [
    "plt.figure(figsize=(18, 7))\n",
    "plt.plot(cumulative_a_filtred['date'], cumulative_a_filtred['revenue'], label='A')\n",
    "plt.plot(cumulative_b_filtred['date'], cumulative_b_filtred['revenue'], label='B')\n",
    "plt.legend()\n",
    "plt.ylabel('млн. рублей', fontsize=16)\n",
    "plt.title('Абсолютная кумулятивная выручка групп теста по дням (без аномальных заказов)', fontsize=16)\n",
    "plt.show()"
   ]
  },
  {
   "cell_type": "code",
   "execution_count": 41,
   "id": "a45c0cdf",
   "metadata": {},
   "outputs": [
    {
     "data": {
      "text/html": [
       "<div>\n",
       "<style scoped>\n",
       "    .dataframe tbody tr th:only-of-type {\n",
       "        vertical-align: middle;\n",
       "    }\n",
       "\n",
       "    .dataframe tbody tr th {\n",
       "        vertical-align: top;\n",
       "    }\n",
       "\n",
       "    .dataframe thead th {\n",
       "        text-align: right;\n",
       "    }\n",
       "</style>\n",
       "<table border=\"1\" class=\"dataframe\">\n",
       "  <thead>\n",
       "    <tr style=\"text-align: right;\">\n",
       "      <th></th>\n",
       "      <th>transaction_id</th>\n",
       "      <th>visitor_id</th>\n",
       "      <th>date</th>\n",
       "      <th>revenue</th>\n",
       "      <th>group</th>\n",
       "    </tr>\n",
       "  </thead>\n",
       "  <tbody>\n",
       "    <tr>\n",
       "      <th>0</th>\n",
       "      <td>3667963787</td>\n",
       "      <td>3312258926</td>\n",
       "      <td>2019-08-15</td>\n",
       "      <td>1650</td>\n",
       "      <td>B</td>\n",
       "    </tr>\n",
       "    <tr>\n",
       "      <th>1</th>\n",
       "      <td>2804400009</td>\n",
       "      <td>3642806036</td>\n",
       "      <td>2019-08-15</td>\n",
       "      <td>730</td>\n",
       "      <td>B</td>\n",
       "    </tr>\n",
       "    <tr>\n",
       "      <th>2</th>\n",
       "      <td>2961555356</td>\n",
       "      <td>4069496402</td>\n",
       "      <td>2019-08-15</td>\n",
       "      <td>400</td>\n",
       "      <td>A</td>\n",
       "    </tr>\n",
       "    <tr>\n",
       "      <th>3</th>\n",
       "      <td>3797467345</td>\n",
       "      <td>1196621759</td>\n",
       "      <td>2019-08-15</td>\n",
       "      <td>9759</td>\n",
       "      <td>B</td>\n",
       "    </tr>\n",
       "    <tr>\n",
       "      <th>4</th>\n",
       "      <td>2282983706</td>\n",
       "      <td>2322279887</td>\n",
       "      <td>2019-08-15</td>\n",
       "      <td>2308</td>\n",
       "      <td>B</td>\n",
       "    </tr>\n",
       "    <tr>\n",
       "      <th>...</th>\n",
       "      <td>...</td>\n",
       "      <td>...</td>\n",
       "      <td>...</td>\n",
       "      <td>...</td>\n",
       "      <td>...</td>\n",
       "    </tr>\n",
       "    <tr>\n",
       "      <th>1192</th>\n",
       "      <td>2662137336</td>\n",
       "      <td>3733762160</td>\n",
       "      <td>2019-08-14</td>\n",
       "      <td>6490</td>\n",
       "      <td>B</td>\n",
       "    </tr>\n",
       "    <tr>\n",
       "      <th>1193</th>\n",
       "      <td>2203539145</td>\n",
       "      <td>370388673</td>\n",
       "      <td>2019-08-14</td>\n",
       "      <td>3190</td>\n",
       "      <td>A</td>\n",
       "    </tr>\n",
       "    <tr>\n",
       "      <th>1194</th>\n",
       "      <td>1807773912</td>\n",
       "      <td>573423106</td>\n",
       "      <td>2019-08-14</td>\n",
       "      <td>10550</td>\n",
       "      <td>A</td>\n",
       "    </tr>\n",
       "    <tr>\n",
       "      <th>1195</th>\n",
       "      <td>1947021204</td>\n",
       "      <td>1614305549</td>\n",
       "      <td>2019-08-14</td>\n",
       "      <td>100</td>\n",
       "      <td>A</td>\n",
       "    </tr>\n",
       "    <tr>\n",
       "      <th>1196</th>\n",
       "      <td>3936777065</td>\n",
       "      <td>2108080724</td>\n",
       "      <td>2019-08-15</td>\n",
       "      <td>202740</td>\n",
       "      <td>B</td>\n",
       "    </tr>\n",
       "  </tbody>\n",
       "</table>\n",
       "<p>1197 rows × 5 columns</p>\n",
       "</div>"
      ],
      "text/plain": [
       "     transaction_id  visitor_id       date  revenue group\n",
       "0        3667963787  3312258926 2019-08-15     1650     B\n",
       "1        2804400009  3642806036 2019-08-15      730     B\n",
       "2        2961555356  4069496402 2019-08-15      400     A\n",
       "3        3797467345  1196621759 2019-08-15     9759     B\n",
       "4        2282983706  2322279887 2019-08-15     2308     B\n",
       "...             ...         ...        ...      ...   ...\n",
       "1192     2662137336  3733762160 2019-08-14     6490     B\n",
       "1193     2203539145   370388673 2019-08-14     3190     A\n",
       "1194     1807773912   573423106 2019-08-14    10550     A\n",
       "1195     1947021204  1614305549 2019-08-14      100     A\n",
       "1196     3936777065  2108080724 2019-08-15   202740     B\n",
       "\n",
       "[1197 rows x 5 columns]"
      ]
     },
     "execution_count": 41,
     "metadata": {},
     "output_type": "execute_result"
    }
   ],
   "source": [
    "orders"
   ]
  },
  {
   "cell_type": "code",
   "execution_count": 42,
   "id": "195b8fd3",
   "metadata": {},
   "outputs": [
    {
     "data": {
      "text/html": [
       "<div>\n",
       "<style scoped>\n",
       "    .dataframe tbody tr th:only-of-type {\n",
       "        vertical-align: middle;\n",
       "    }\n",
       "\n",
       "    .dataframe tbody tr th {\n",
       "        vertical-align: top;\n",
       "    }\n",
       "\n",
       "    .dataframe thead th {\n",
       "        text-align: right;\n",
       "    }\n",
       "</style>\n",
       "<table border=\"1\" class=\"dataframe\">\n",
       "  <thead>\n",
       "    <tr style=\"text-align: right;\">\n",
       "      <th></th>\n",
       "      <th>group</th>\n",
       "      <th>transaction_id</th>\n",
       "      <th>visitor_id</th>\n",
       "      <th>number_of_orders</th>\n",
       "    </tr>\n",
       "  </thead>\n",
       "  <tbody>\n",
       "    <tr>\n",
       "      <th>0</th>\n",
       "      <td>A</td>\n",
       "      <td>557</td>\n",
       "      <td>543</td>\n",
       "      <td>1.025783</td>\n",
       "    </tr>\n",
       "    <tr>\n",
       "      <th>1</th>\n",
       "      <td>B</td>\n",
       "      <td>640</td>\n",
       "      <td>628</td>\n",
       "      <td>1.019108</td>\n",
       "    </tr>\n",
       "  </tbody>\n",
       "</table>\n",
       "</div>"
      ],
      "text/plain": [
       "  group  transaction_id  visitor_id  number_of_orders\n",
       "0     A             557         543          1.025783\n",
       "1     B             640         628          1.019108"
      ]
     },
     "execution_count": 42,
     "metadata": {},
     "output_type": "execute_result"
    }
   ],
   "source": [
    "avg_group_orders = orders.groupby(['group', 'date'], as_index=False).agg({'transaction_id': 'count', 'visitor_id': 'nunique'})\n",
    "\n",
    "avg_group_orders = avg_group_orders.groupby('group', as_index=False).agg({'transaction_id': 'sum', 'visitor_id': 'sum'})\n",
    "\n",
    "avg_group_orders['number_of_orders'] = avg_group_orders['transaction_id'] / avg_group_orders['visitor_id']\n",
    "\n",
    "avg_group_orders"
   ]
  },
  {
   "cell_type": "code",
   "execution_count": 43,
   "id": "e1e8fc80",
   "metadata": {},
   "outputs": [
    {
     "name": "stdout",
     "output_type": "stream",
     "text": [
      "Относительная разница в количестве заказов на одного покупателя: 0.65 %\n"
     ]
    }
   ],
   "source": [
    "print('Относительная разница в количестве заказов на одного покупателя:', \n",
    "      round((avg_group_orders.loc[0, 'number_of_orders']/avg_group_orders.loc[1, 'number_of_orders']-1)*100, 2), '%')"
   ]
  },
  {
   "cell_type": "markdown",
   "id": "6b389a95",
   "metadata": {},
   "source": [
    "<div style=\"border-radius: 15px; border: 3px solid black; padding: 15px;\">\n",
    "<font size=+2><b> 4. ВЫВОДЫ. </b></font>\n",
    "\n",
    "Разница между кумулятивной выручкой видна, но теперь не так заметна. Количество заказов практически одинаково: в группе А их делают на 0,65% больше в пересчёте на одного покупателя.\n",
    "    \n",
    "В проекте нам не удалось ознакомиться с подробным ТЗ А/В теста, но, можно предположить, что заказчиков интересовала в т.ч. суммарная выручка. В контексте нашего теста выгодно декомпозировать выручку как (КОЛИЧЕСТВО ПОСЕТИТЕЛЕЙ) * (КОНВЕРСИЯ) * (КОЛИЧЕСТВО ЗАКАЗОВ НА ОДНОГО ПОКУПАТЕЛЯ) * (СРЕДНИЙ ЧЕК). Рассмотрим каждый множитель:\n",
    "- Количество посетителей одинаково (с допущением) по условиям А/В теста.\n",
    "- Как и в случае с количеством посетителей, количество заказов на одного покупателя можем считать одинаковым.\n",
    "- Различия в среднем чеке - статистически незначимы.\n",
    "- Соответственно, разница в кумулятивной выручке объясняется при прочих равных разницей в конверсии.\n",
    "    \n",
    "В связи с этим я бы принял решение остановить тест, зафиксировав лучший показатель конверсии за группой В (0.0318 против 0.0273, относительная разница  16.27%). Продолжать тест в надежде выявить различия в среднем чеке считаю нецелесообразным: p-value при наших сравнениях слишком далёк от уровня принятия решения.\n",
    "</div>"
   ]
  },
  {
   "cell_type": "code",
   "execution_count": null,
   "id": "5469e00c",
   "metadata": {},
   "outputs": [],
   "source": []
  }
 ],
 "metadata": {
  "ExecuteTimeLog": [
   {
    "duration": 1415,
    "start_time": "2022-07-03T14:33:47.393Z"
   },
   {
    "duration": 90,
    "start_time": "2022-07-03T14:33:48.811Z"
   },
   {
    "duration": 14,
    "start_time": "2022-07-03T14:33:48.904Z"
   },
   {
    "duration": 28,
    "start_time": "2022-07-03T14:33:48.921Z"
   },
   {
    "duration": 17,
    "start_time": "2022-07-03T14:33:48.951Z"
   },
   {
    "duration": 154,
    "start_time": "2022-07-03T14:33:48.970Z"
   },
   {
    "duration": 22,
    "start_time": "2022-07-03T14:33:49.128Z"
   },
   {
    "duration": 44,
    "start_time": "2022-07-03T14:33:49.151Z"
   },
   {
    "duration": 34,
    "start_time": "2022-07-03T14:33:49.197Z"
   },
   {
    "duration": 50,
    "start_time": "2022-07-03T14:33:49.234Z"
   },
   {
    "duration": 41,
    "start_time": "2022-07-03T14:33:49.286Z"
   },
   {
    "duration": 38,
    "start_time": "2022-07-03T14:33:49.330Z"
   },
   {
    "duration": 75,
    "start_time": "2022-07-03T14:33:49.371Z"
   },
   {
    "duration": 446,
    "start_time": "2022-07-03T14:33:49.449Z"
   },
   {
    "duration": 264,
    "start_time": "2022-07-03T14:33:49.897Z"
   },
   {
    "duration": 471,
    "start_time": "2022-07-03T14:33:50.164Z"
   },
   {
    "duration": 322,
    "start_time": "2022-07-03T14:33:50.637Z"
   },
   {
    "duration": 359,
    "start_time": "2022-07-03T14:33:50.961Z"
   },
   {
    "duration": 145,
    "start_time": "2022-07-03T14:33:51.322Z"
   },
   {
    "duration": 12,
    "start_time": "2022-07-03T14:33:51.469Z"
   },
   {
    "duration": 168,
    "start_time": "2022-07-03T14:33:51.483Z"
   },
   {
    "duration": 195,
    "start_time": "2022-07-03T14:33:51.653Z"
   },
   {
    "duration": 15,
    "start_time": "2022-07-03T14:33:51.849Z"
   },
   {
    "duration": 15,
    "start_time": "2022-07-03T14:33:51.866Z"
   },
   {
    "duration": 21,
    "start_time": "2022-07-03T14:33:51.884Z"
   },
   {
    "duration": 43,
    "start_time": "2022-07-03T14:33:51.907Z"
   },
   {
    "duration": 26,
    "start_time": "2022-07-03T14:33:51.952Z"
   },
   {
    "duration": 17,
    "start_time": "2022-07-03T14:33:51.982Z"
   },
   {
    "duration": 53,
    "start_time": "2022-07-03T14:33:52.002Z"
   },
   {
    "duration": 19,
    "start_time": "2022-07-03T14:33:52.057Z"
   },
   {
    "duration": 22,
    "start_time": "2022-07-03T14:33:52.078Z"
   },
   {
    "duration": 675,
    "start_time": "2022-07-03T14:33:52.103Z"
   },
   {
    "duration": 629,
    "start_time": "2022-07-03T14:33:52.780Z"
   },
   {
    "duration": 23,
    "start_time": "2022-07-03T14:33:53.411Z"
   },
   {
    "duration": 17,
    "start_time": "2022-07-03T14:33:53.435Z"
   },
   {
    "duration": 20,
    "start_time": "2022-07-03T14:33:53.455Z"
   },
   {
    "duration": 237,
    "start_time": "2022-07-03T14:33:53.477Z"
   },
   {
    "duration": 10,
    "start_time": "2022-07-03T14:43:51.348Z"
   },
   {
    "duration": 35,
    "start_time": "2022-07-03T15:58:10.176Z"
   },
   {
    "duration": 12,
    "start_time": "2022-07-03T16:09:26.922Z"
   },
   {
    "duration": 40,
    "start_time": "2022-07-04T15:06:29.036Z"
   },
   {
    "duration": 952,
    "start_time": "2022-07-04T15:06:35.728Z"
   },
   {
    "duration": 82,
    "start_time": "2022-07-04T15:06:36.682Z"
   },
   {
    "duration": 10,
    "start_time": "2022-07-04T15:06:36.765Z"
   },
   {
    "duration": 11,
    "start_time": "2022-07-04T15:06:36.777Z"
   },
   {
    "duration": 10,
    "start_time": "2022-07-04T15:06:36.789Z"
   },
   {
    "duration": 101,
    "start_time": "2022-07-04T15:06:36.800Z"
   },
   {
    "duration": 14,
    "start_time": "2022-07-04T15:06:36.902Z"
   },
   {
    "duration": 13,
    "start_time": "2022-07-04T15:06:36.918Z"
   },
   {
    "duration": 9,
    "start_time": "2022-07-04T15:06:36.932Z"
   },
   {
    "duration": 7,
    "start_time": "2022-07-04T15:06:36.943Z"
   },
   {
    "duration": 9,
    "start_time": "2022-07-04T15:06:36.952Z"
   },
   {
    "duration": 11,
    "start_time": "2022-07-04T15:06:36.962Z"
   },
   {
    "duration": 82,
    "start_time": "2022-07-04T15:06:36.991Z"
   },
   {
    "duration": 18,
    "start_time": "2022-07-04T15:06:37.077Z"
   },
   {
    "duration": 40,
    "start_time": "2022-07-04T15:06:37.096Z"
   },
   {
    "duration": 331,
    "start_time": "2022-07-04T15:06:37.138Z"
   },
   {
    "duration": 186,
    "start_time": "2022-07-04T15:06:37.471Z"
   },
   {
    "duration": 309,
    "start_time": "2022-07-04T15:06:37.659Z"
   },
   {
    "duration": 220,
    "start_time": "2022-07-04T15:06:37.969Z"
   },
   {
    "duration": 293,
    "start_time": "2022-07-04T15:06:38.190Z"
   },
   {
    "duration": 117,
    "start_time": "2022-07-04T15:06:38.490Z"
   },
   {
    "duration": 10,
    "start_time": "2022-07-04T15:06:38.609Z"
   },
   {
    "duration": 139,
    "start_time": "2022-07-04T15:06:38.620Z"
   },
   {
    "duration": 132,
    "start_time": "2022-07-04T15:06:38.761Z"
   },
   {
    "duration": 10,
    "start_time": "2022-07-04T15:06:38.894Z"
   },
   {
    "duration": 7,
    "start_time": "2022-07-04T15:06:38.906Z"
   },
   {
    "duration": 9,
    "start_time": "2022-07-04T15:06:38.914Z"
   },
   {
    "duration": 7,
    "start_time": "2022-07-04T15:06:38.924Z"
   },
   {
    "duration": 14,
    "start_time": "2022-07-04T15:06:38.933Z"
   },
   {
    "duration": 13,
    "start_time": "2022-07-04T15:06:38.948Z"
   },
   {
    "duration": 31,
    "start_time": "2022-07-04T15:06:38.962Z"
   },
   {
    "duration": 9,
    "start_time": "2022-07-04T15:06:38.994Z"
   },
   {
    "duration": 7,
    "start_time": "2022-07-04T15:06:39.004Z"
   },
   {
    "duration": 9,
    "start_time": "2022-07-04T15:06:39.012Z"
   },
   {
    "duration": 490,
    "start_time": "2022-07-04T15:06:39.022Z"
   },
   {
    "duration": 410,
    "start_time": "2022-07-04T15:06:39.514Z"
   },
   {
    "duration": 13,
    "start_time": "2022-07-04T15:06:39.926Z"
   },
   {
    "duration": 15,
    "start_time": "2022-07-04T15:06:39.940Z"
   },
   {
    "duration": 35,
    "start_time": "2022-07-04T15:06:39.956Z"
   },
   {
    "duration": 196,
    "start_time": "2022-07-04T15:06:39.993Z"
   },
   {
    "duration": 12,
    "start_time": "2022-07-04T15:06:40.193Z"
   },
   {
    "duration": 22,
    "start_time": "2022-07-04T15:06:40.207Z"
   },
   {
    "duration": 4,
    "start_time": "2022-07-04T15:06:40.230Z"
   },
   {
    "duration": 52,
    "start_time": "2022-07-04T18:29:09.471Z"
   },
   {
    "duration": 1282,
    "start_time": "2022-07-04T18:29:14.923Z"
   },
   {
    "duration": 67,
    "start_time": "2022-07-04T18:29:16.207Z"
   },
   {
    "duration": 13,
    "start_time": "2022-07-04T18:29:16.276Z"
   },
   {
    "duration": 16,
    "start_time": "2022-07-04T18:29:16.292Z"
   },
   {
    "duration": 15,
    "start_time": "2022-07-04T18:29:16.310Z"
   },
   {
    "duration": 110,
    "start_time": "2022-07-04T18:29:16.326Z"
   },
   {
    "duration": 20,
    "start_time": "2022-07-04T18:29:16.437Z"
   },
   {
    "duration": 17,
    "start_time": "2022-07-04T18:29:16.459Z"
   },
   {
    "duration": 15,
    "start_time": "2022-07-04T18:29:16.478Z"
   },
   {
    "duration": 27,
    "start_time": "2022-07-04T18:29:16.497Z"
   },
   {
    "duration": 9,
    "start_time": "2022-07-04T18:29:16.526Z"
   },
   {
    "duration": 15,
    "start_time": "2022-07-04T18:29:16.537Z"
   },
   {
    "duration": 126,
    "start_time": "2022-07-04T18:29:16.554Z"
   },
   {
    "duration": 11,
    "start_time": "2022-07-04T18:29:16.681Z"
   },
   {
    "duration": 72,
    "start_time": "2022-07-04T18:29:16.693Z"
   },
   {
    "duration": 359,
    "start_time": "2022-07-04T18:29:16.767Z"
   },
   {
    "duration": 236,
    "start_time": "2022-07-04T18:29:17.128Z"
   },
   {
    "duration": 331,
    "start_time": "2022-07-04T18:29:17.366Z"
   },
   {
    "duration": 279,
    "start_time": "2022-07-04T18:29:17.699Z"
   },
   {
    "duration": 308,
    "start_time": "2022-07-04T18:29:17.980Z"
   },
   {
    "duration": 150,
    "start_time": "2022-07-04T18:29:18.289Z"
   },
   {
    "duration": 11,
    "start_time": "2022-07-04T18:29:18.441Z"
   },
   {
    "duration": 181,
    "start_time": "2022-07-04T18:29:18.454Z"
   },
   {
    "duration": 177,
    "start_time": "2022-07-04T18:29:18.637Z"
   },
   {
    "duration": 19,
    "start_time": "2022-07-04T18:29:18.816Z"
   },
   {
    "duration": 9,
    "start_time": "2022-07-04T18:29:18.837Z"
   },
   {
    "duration": 17,
    "start_time": "2022-07-04T18:29:18.848Z"
   },
   {
    "duration": 14,
    "start_time": "2022-07-04T18:29:18.869Z"
   },
   {
    "duration": 48,
    "start_time": "2022-07-04T18:29:18.885Z"
   },
   {
    "duration": 16,
    "start_time": "2022-07-04T18:29:18.936Z"
   },
   {
    "duration": 36,
    "start_time": "2022-07-04T18:29:18.954Z"
   },
   {
    "duration": 17,
    "start_time": "2022-07-04T18:29:18.993Z"
   },
   {
    "duration": 21,
    "start_time": "2022-07-04T18:29:19.011Z"
   },
   {
    "duration": 25,
    "start_time": "2022-07-04T18:29:19.034Z"
   },
   {
    "duration": 622,
    "start_time": "2022-07-04T18:29:19.061Z"
   },
   {
    "duration": 534,
    "start_time": "2022-07-04T18:29:19.685Z"
   },
   {
    "duration": 15,
    "start_time": "2022-07-04T18:29:20.223Z"
   },
   {
    "duration": 21,
    "start_time": "2022-07-04T18:29:20.239Z"
   },
   {
    "duration": 19,
    "start_time": "2022-07-04T18:29:20.261Z"
   },
   {
    "duration": 265,
    "start_time": "2022-07-04T18:29:20.282Z"
   },
   {
    "duration": 13,
    "start_time": "2022-07-04T18:29:20.549Z"
   },
   {
    "duration": 28,
    "start_time": "2022-07-04T18:29:20.564Z"
   },
   {
    "duration": 4,
    "start_time": "2022-07-04T18:29:20.594Z"
   },
   {
    "duration": 60,
    "start_time": "2022-07-04T18:31:46.169Z"
   },
   {
    "duration": 104,
    "start_time": "2022-07-04T18:32:55.501Z"
   },
   {
    "duration": 100,
    "start_time": "2022-07-04T18:33:05.897Z"
   },
   {
    "duration": 112,
    "start_time": "2022-07-04T18:33:13.149Z"
   },
   {
    "duration": 102,
    "start_time": "2022-07-04T18:38:04.406Z"
   },
   {
    "duration": 1022,
    "start_time": "2022-07-04T18:41:26.635Z"
   },
   {
    "duration": 37,
    "start_time": "2022-07-04T18:41:27.658Z"
   },
   {
    "duration": 13,
    "start_time": "2022-07-04T18:41:27.696Z"
   },
   {
    "duration": 13,
    "start_time": "2022-07-04T18:41:27.710Z"
   },
   {
    "duration": 13,
    "start_time": "2022-07-04T18:41:27.725Z"
   },
   {
    "duration": 47,
    "start_time": "2022-07-04T18:41:27.739Z"
   },
   {
    "duration": 15,
    "start_time": "2022-07-04T18:41:27.788Z"
   },
   {
    "duration": 15,
    "start_time": "2022-07-04T18:41:27.805Z"
   },
   {
    "duration": 10,
    "start_time": "2022-07-04T18:41:27.821Z"
   },
   {
    "duration": 8,
    "start_time": "2022-07-04T18:41:27.832Z"
   },
   {
    "duration": 11,
    "start_time": "2022-07-04T18:41:27.841Z"
   },
   {
    "duration": 13,
    "start_time": "2022-07-04T18:41:27.853Z"
   },
   {
    "duration": 125,
    "start_time": "2022-07-04T18:41:27.867Z"
   },
   {
    "duration": 8,
    "start_time": "2022-07-04T18:41:27.994Z"
   },
   {
    "duration": 61,
    "start_time": "2022-07-04T18:41:28.004Z"
   },
   {
    "duration": 344,
    "start_time": "2022-07-04T18:41:28.066Z"
   },
   {
    "duration": 235,
    "start_time": "2022-07-04T18:41:28.412Z"
   },
   {
    "duration": 325,
    "start_time": "2022-07-04T18:41:28.649Z"
   },
   {
    "duration": 329,
    "start_time": "2022-07-04T18:41:28.976Z"
   },
   {
    "duration": 341,
    "start_time": "2022-07-04T18:41:29.308Z"
   },
   {
    "duration": 152,
    "start_time": "2022-07-04T18:41:29.651Z"
   },
   {
    "duration": 29,
    "start_time": "2022-07-04T18:41:29.805Z"
   },
   {
    "duration": 154,
    "start_time": "2022-07-04T18:41:29.836Z"
   },
   {
    "duration": 161,
    "start_time": "2022-07-04T18:41:29.992Z"
   },
   {
    "duration": 13,
    "start_time": "2022-07-04T18:41:30.155Z"
   },
   {
    "duration": 12,
    "start_time": "2022-07-04T18:41:30.170Z"
   },
   {
    "duration": 16,
    "start_time": "2022-07-04T18:41:30.184Z"
   },
   {
    "duration": 31,
    "start_time": "2022-07-04T18:41:30.202Z"
   },
   {
    "duration": 28,
    "start_time": "2022-07-04T18:41:30.235Z"
   },
   {
    "duration": 40,
    "start_time": "2022-07-04T18:41:30.265Z"
   },
   {
    "duration": 43,
    "start_time": "2022-07-04T18:41:30.306Z"
   },
   {
    "duration": 35,
    "start_time": "2022-07-04T18:41:30.351Z"
   },
   {
    "duration": 36,
    "start_time": "2022-07-04T18:41:30.388Z"
   },
   {
    "duration": 32,
    "start_time": "2022-07-04T18:41:30.426Z"
   },
   {
    "duration": 565,
    "start_time": "2022-07-04T18:41:30.459Z"
   },
   {
    "duration": 459,
    "start_time": "2022-07-04T18:41:31.026Z"
   },
   {
    "duration": 15,
    "start_time": "2022-07-04T18:41:31.487Z"
   },
   {
    "duration": 34,
    "start_time": "2022-07-04T18:41:31.504Z"
   },
   {
    "duration": 27,
    "start_time": "2022-07-04T18:41:31.540Z"
   },
   {
    "duration": 250,
    "start_time": "2022-07-04T18:41:31.569Z"
   },
   {
    "duration": 15,
    "start_time": "2022-07-04T18:41:31.826Z"
   },
   {
    "duration": 30,
    "start_time": "2022-07-04T18:41:31.843Z"
   },
   {
    "duration": 7,
    "start_time": "2022-07-04T18:41:31.875Z"
   },
   {
    "duration": 1132,
    "start_time": "2022-07-04T22:54:56.724Z"
   },
   {
    "duration": 53,
    "start_time": "2022-07-04T22:54:57.857Z"
   },
   {
    "duration": 10,
    "start_time": "2022-07-04T22:54:57.912Z"
   },
   {
    "duration": 12,
    "start_time": "2022-07-04T22:54:57.924Z"
   },
   {
    "duration": 11,
    "start_time": "2022-07-04T22:54:57.938Z"
   },
   {
    "duration": 70,
    "start_time": "2022-07-04T22:54:57.951Z"
   },
   {
    "duration": 16,
    "start_time": "2022-07-04T22:54:58.022Z"
   },
   {
    "duration": 16,
    "start_time": "2022-07-04T22:54:58.040Z"
   },
   {
    "duration": 10,
    "start_time": "2022-07-04T22:54:58.058Z"
   },
   {
    "duration": 9,
    "start_time": "2022-07-04T22:54:58.069Z"
   },
   {
    "duration": 15,
    "start_time": "2022-07-04T22:54:58.080Z"
   },
   {
    "duration": 29,
    "start_time": "2022-07-04T22:54:58.097Z"
   },
   {
    "duration": 117,
    "start_time": "2022-07-04T22:54:58.127Z"
   },
   {
    "duration": 8,
    "start_time": "2022-07-04T22:54:58.247Z"
   },
   {
    "duration": 67,
    "start_time": "2022-07-04T22:54:58.256Z"
   },
   {
    "duration": 295,
    "start_time": "2022-07-04T22:54:58.324Z"
   },
   {
    "duration": 200,
    "start_time": "2022-07-04T22:54:58.623Z"
   },
   {
    "duration": 315,
    "start_time": "2022-07-04T22:54:58.825Z"
   },
   {
    "duration": 231,
    "start_time": "2022-07-04T22:54:59.142Z"
   },
   {
    "duration": 272,
    "start_time": "2022-07-04T22:54:59.375Z"
   },
   {
    "duration": 140,
    "start_time": "2022-07-04T22:54:59.649Z"
   },
   {
    "duration": 10,
    "start_time": "2022-07-04T22:54:59.791Z"
   },
   {
    "duration": 162,
    "start_time": "2022-07-04T22:54:59.803Z"
   },
   {
    "duration": 157,
    "start_time": "2022-07-04T22:54:59.967Z"
   },
   {
    "duration": 14,
    "start_time": "2022-07-04T22:55:00.126Z"
   },
   {
    "duration": 18,
    "start_time": "2022-07-04T22:55:00.143Z"
   },
   {
    "duration": 26,
    "start_time": "2022-07-04T22:55:00.163Z"
   },
   {
    "duration": 14,
    "start_time": "2022-07-04T22:55:00.191Z"
   },
   {
    "duration": 30,
    "start_time": "2022-07-04T22:55:00.207Z"
   },
   {
    "duration": 22,
    "start_time": "2022-07-04T22:55:00.240Z"
   },
   {
    "duration": 18,
    "start_time": "2022-07-04T22:55:00.264Z"
   },
   {
    "duration": 16,
    "start_time": "2022-07-04T22:55:00.284Z"
   },
   {
    "duration": 21,
    "start_time": "2022-07-04T22:55:00.302Z"
   },
   {
    "duration": 32,
    "start_time": "2022-07-04T22:55:00.325Z"
   },
   {
    "duration": 532,
    "start_time": "2022-07-04T22:55:00.359Z"
   },
   {
    "duration": 449,
    "start_time": "2022-07-04T22:55:00.893Z"
   },
   {
    "duration": 15,
    "start_time": "2022-07-04T22:55:01.344Z"
   },
   {
    "duration": 28,
    "start_time": "2022-07-04T22:55:01.360Z"
   },
   {
    "duration": 35,
    "start_time": "2022-07-04T22:55:01.389Z"
   },
   {
    "duration": 239,
    "start_time": "2022-07-04T22:55:01.426Z"
   },
   {
    "duration": 14,
    "start_time": "2022-07-04T22:55:01.670Z"
   },
   {
    "duration": 57,
    "start_time": "2022-07-04T22:55:01.686Z"
   },
   {
    "duration": 51,
    "start_time": "2022-07-04T22:55:01.744Z"
   },
   {
    "duration": 21,
    "start_time": "2022-07-04T22:59:26.704Z"
   },
   {
    "duration": 4,
    "start_time": "2022-07-04T23:02:04.684Z"
   },
   {
    "duration": 4,
    "start_time": "2022-07-04T23:02:08.104Z"
   }
  ],
  "kernelspec": {
   "display_name": "Python 3 (ipykernel)",
   "language": "python",
   "name": "python3"
  },
  "language_info": {
   "codemirror_mode": {
    "name": "ipython",
    "version": 3
   },
   "file_extension": ".py",
   "mimetype": "text/x-python",
   "name": "python",
   "nbconvert_exporter": "python",
   "pygments_lexer": "ipython3",
   "version": "3.9.7"
  },
  "toc": {
   "base_numbering": 1,
   "nav_menu": {},
   "number_sections": true,
   "sideBar": true,
   "skip_h1_title": true,
   "title_cell": "Table of Contents",
   "title_sidebar": "Contents",
   "toc_cell": false,
   "toc_position": {},
   "toc_section_display": true,
   "toc_window_display": false
  }
 },
 "nbformat": 4,
 "nbformat_minor": 5
}
